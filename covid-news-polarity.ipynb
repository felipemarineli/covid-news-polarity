{
 "cells": [
  {
   "cell_type": "markdown",
   "id": "88992934",
   "metadata": {},
   "source": [
    "# Covid-19 Pandemic and Polarity in Editorial News: A BBC study case"
   ]
  },
  {
   "cell_type": "markdown",
   "id": "12a303a2",
   "metadata": {},
   "source": [
    "## Introduction"
   ]
  },
  {
   "cell_type": "markdown",
   "id": "2e554a1a",
   "metadata": {},
   "source": [
    "The Covid-19 pandemic affeted the world well beyond the numbers which have become an unpleasant but inevitable part of our daily lives - infection incidence, deaths, vaccination coverage. As we slowly but steadily approach a new time of relative normality, we believe that there may be hidden patterns in our society whose importance might have been obscured by the urgency and hardship of the pandemic. We propose to apply Natural Language Processing (NLP) to content created and shared on the internet before and during the pandemic in order to extract its polarity over time and statistically determine whether there was a significant change since the pandemic started.\n",
    "\n",
    "Polarity is essentially a part of sentiment analysis. More specifically, it is a feature offered by the SpaCy library in order to determine the positivity or negativity of a statement (https://ieeexplore.ieee.org/document/9197829). It is extracted as a metric for a string of any arbitrary size, and the output corresponds to the average of the polarity of all text in the document. It is a float which lies in the range -1 to 1.\n",
    "\n",
    "The corpus of text that we will collect, process, and analyse comprises of a sample of articles from the archive of the British Broadcasting Corporation (BBC). Our choice for BBC is due to it being a public entity, one of the largest broadcasters in the world, and highly regarded (https://publications.parliament.uk/pa/ld200506/ldselect/ldbbc/50/5005.htm); the content is free to be accessed and made available via an archive sitemap listed on the website's [robots.txt](https://www.bbc.co.uk/robots.txt) file. This makes possible for us to explore the variation of polarity over time.\n",
    "\n",
    "We will work with a sample of the data because processing all the available data - news articles from BBC since 2010 - would not be viable in a home computer due to the size of the data associated with time and submission constraints. The limit of pages to be crawled from each plain sitemap is a parameter of our sitemap crawler. Nonetheless, the number of documents is still significantly large, therefore we make the assumption that they represent the population of documents - and discuss this decision in the Conclusion. \n",
    "\n",
    "Our null hypothesis states that there is no significant change in the polarity of BBC articles since the pandemic started. The alternative hypothesis states that there is a significant change. We will apply significance tests to the extracted polarity over time in order to test the hypothesis. Furthermore, we will consider different scenarios that could be formulated as sub-hypotheses which refer to each of the metrics relative to the pandemic (new infections, hospital admissions etc.). "
   ]
  },
  {
   "cell_type": "markdown",
   "id": "628ed10f",
   "metadata": {},
   "source": [
    "## Import libraries"
   ]
  },
  {
   "cell_type": "code",
   "execution_count": 2,
   "id": "1ee651f4",
   "metadata": {
    "ExecuteTime": {
     "end_time": "2021-09-04T16:20:03.341903Z",
     "start_time": "2021-09-04T16:20:00.459985Z"
    }
   },
   "outputs": [
    {
     "data": {
      "text/plain": [
       "<spacytextblob.spacytextblob.SpacyTextBlob at 0x7fea0982be80>"
      ]
     },
     "execution_count": 2,
     "metadata": {},
     "output_type": "execute_result"
    }
   ],
   "source": [
    "import requests\n",
    "import re\n",
    "import urllib\n",
    "from urllib.parse import urlparse\n",
    "from urllib.request import urlopen\n",
    "import collections\n",
    "import json\n",
    "from lxml import etree\n",
    "import pandas as pd\n",
    "import spacy\n",
    "from spacytextblob.spacytextblob import SpacyTextBlob\n",
    "from datetime import datetime\n",
    "import unittest\n",
    "import matplotlib.pyplot as plt\n",
    "from matplotlib.dates import DateFormatter, MonthLocator\n",
    "import numpy as np\n",
    "from scipy.stats import ttest_1samp\n",
    "\n",
    "nlp = spacy.load(\"en_core_web_sm\")\n",
    "nlp.add_pipe('spacytextblob')"
   ]
  },
  {
   "cell_type": "markdown",
   "id": "bec8990a",
   "metadata": {},
   "source": [
    "## Data Gathering"
   ]
  },
  {
   "cell_type": "markdown",
   "id": "364178e4",
   "metadata": {},
   "source": [
    "Our starting point is the URL https://www.bbc.co.uk/sitemaps/https-index-uk-archive.xml. It contains an archive with the BBC content published online since 2010 up to the current date. We will first capture all URLs of interest and then visit each URL.\n",
    "\n",
    "Firstly we declare a new class `SitemapWebCrawler` in order to contain the logic for extracting the URLs of a sitemap, with a couple elements designed specifically for the BBC sitemap. \n",
    "\n",
    "We use the `collections` library to create a `defaultdict`, which we can manipulate easily. This will be populated and then saved as JSON output in the end. We also create a queue (a `deque`) from the `collections` library to manage the enqueuing of URLs. A set `visited` serves as lookup to know if we already visited a URL. The webcrawler pops (selects and removes from it) the leftmost URL from the queue, whose links are then extracted. \n",
    "\n",
    "For each element in the result, we extract the URL and the publish date, and, if the URL has not yet been visited, it is added to the end of the queue. The process repeats until the queue is empty. One of the features introduced after some iterative development is a limit of visited URLs per sitemap via the `limit_urls` parameter. This has been added after the assessment that crawling the entire archive sitemap is not feasible.\n",
    "\n",
    "The date is purposefully extracted in this step. We get it from the `lastmod` tag in the sitemap next to its corresponding `loc` node, where the URL can be found. The reason for this is that it is not possible to extract the date consistently from the body of all the BBC articles using only one or two XPath expressions. The timestamp is the next best option available to extract the date in which the article was published - technically, in which the file was last modified, which in this case should have a negligible effect. A limit of about 160 URLs per sitemap is the limit in order for the output to be smaller than 10MB, as required for sharing."
   ]
  },
  {
   "cell_type": "code",
   "execution_count": 3,
   "id": "c0ee6996",
   "metadata": {
    "ExecuteTime": {
     "end_time": "2021-09-04T16:20:05.554900Z",
     "start_time": "2021-09-04T16:20:05.544700Z"
    }
   },
   "outputs": [],
   "source": [
    "class SitemapWebCrawler():\n",
    "    \n",
    "    # start_url: initial URL to crawl\n",
    "    # limit_urls: upper limit of URLs to visit per sitemap\n",
    "    # output_file_name: name of a JSON file with the resulting URLs\n",
    "    \n",
    "    def __init__(self, start_url, limit_urls, output_file_name):\n",
    "        self.output_file_name = output_file_name\n",
    "        self.start_url = start_url\n",
    "        self.visited = set()\n",
    "        self.limit_urls = limit_urls\n",
    "\n",
    "    def get_xml(self, url):\n",
    "        # request the URL and return its contents\n",
    "        try:\n",
    "            response = requests.get(url)\n",
    "        # an exception handler here avoids that the program breaks in case it cannot visit a URL\n",
    "        except urllib.error.HTTPError as e:\n",
    "            print(f'{e}\\n{url}\\n')\n",
    "            return \"\"\n",
    "        return response.text\n",
    "\n",
    "    def get_links(self, url):\n",
    "        # URL is requested calling `get_xml()` method\n",
    "        try:\n",
    "            xml = self.get_xml(url)\n",
    "            # links are searched in the crawled page using a regular expression that returns 'href' values of <a> nodes\n",
    "            links = re.findall('<loc>(.*?)<\\/loc>', xml)\n",
    "            dates = re.findall('<lastmod>(.*?)<\\/lastmod>', xml)\n",
    "            # the method returns a DataFrame that contains article publish date and URL\n",
    "            df = pd.DataFrame([dates, links]).T.rename(columns={0:'date', 1:'url'})\n",
    "            return df[:self.limit_urls]\n",
    "        except urllib.error.HTTPError as e:\n",
    "            print(f'{e}\\n{url}\\n')\n",
    "            return \"\"\n",
    "\n",
    "    def crawl(self, start_url):\n",
    "        data = collections.defaultdict(dict)\n",
    "        # it is enqueued and added to the visited urls\n",
    "        queue = collections.deque([start_url])\n",
    "        self.visited.add(start_url)\n",
    "        counter = 0\n",
    "\n",
    "        # the crawling will carry on as long as the queue is not empty - limited to 'max_depth'\n",
    "        while queue:\n",
    "            # the URL to the left of the queue is popped and checked for depth\n",
    "            v = queue.popleft()\n",
    "            # 'get_links()' method is called to extract the links\n",
    "            urls = self.get_links(v)\n",
    "            for i, row in enumerate(urls.iterrows()):\n",
    "                url = row[1][1]\n",
    "                date = row[1][0]\n",
    "                if url not in self.visited:\n",
    "                    counter += 1\n",
    "                    self.visited.add(url)\n",
    "                    queue.append(url)\n",
    "                    # assemble the dictionary 'data'\n",
    "                    data[counter]['url'] = url\n",
    "                    data[counter]['date']= date\n",
    "\n",
    "        # results are saved to 'data.json'\n",
    "        with open(f'{self.output_file_name}.json', 'w', encoding='utf-8') as file:\n",
    "            json.dump(data, file, indent=4)\n",
    "            file.close()\n",
    "        print('\\nCrawling finished successfully!\\n')\n",
    "\n",
    "    def start(self):\n",
    "        self.crawl(self.start_url)"
   ]
  },
  {
   "cell_type": "markdown",
   "id": "d9517256",
   "metadata": {},
   "source": [
    "### Crawl the links"
   ]
  },
  {
   "cell_type": "markdown",
   "id": "fbf34a46",
   "metadata": {},
   "source": [
    "Here we crawl with a `limit_urls` parameter set to 160. This will yield 39 sitemap URL and 6240 article URLs; and it will keep the size of the processed data (after the `process` function below) under 10MB. It has been saved as `data.json`.  For reproduction purposes, we recommend running it with a limit set to 5 or 10 maximum due to time constraints (pre-named below as `data_reproduction.json`)."
   ]
  },
  {
   "cell_type": "code",
   "execution_count": 4,
   "id": "6b7fa5b2",
   "metadata": {
    "ExecuteTime": {
     "end_time": "2021-09-04T15:51:07.200986Z",
     "start_time": "2021-09-04T15:50:49.729612Z"
    }
   },
   "outputs": [
    {
     "name": "stdout",
     "output_type": "stream",
     "text": [
      "\n",
      "Crawling finished successfully!\n",
      "\n"
     ]
    }
   ],
   "source": [
    "# Create an instance of the SitemapWebCrawler and call the `start` method\n",
    "\n",
    "crawler = SitemapWebCrawler('https://www.bbc.co.uk/sitemaps/https-index-uk-archive.xml', 5, 'data_reproduction')\n",
    "crawler.start()"
   ]
  },
  {
   "cell_type": "markdown",
   "id": "d8b3d5cf",
   "metadata": {},
   "source": [
    "### Read in result"
   ]
  },
  {
   "cell_type": "markdown",
   "id": "4b614808",
   "metadata": {},
   "source": [
    "Below we read in the dictionary produced by the link extraction. We then filter the data for article URLs only, using a compiled regular expression (based on observation) and visit each article URL. We get the result as an `ElementTree` from the `xml` built-in library. The XML tree structure makes navigation relatively simple with the use of XPath. Based once again on observations, we use XPath expressions to extract both the title and the content (corpus) of every article. "
   ]
  },
  {
   "cell_type": "code",
   "execution_count": 4,
   "id": "86b4e89d",
   "metadata": {
    "ExecuteTime": {
     "end_time": "2021-09-04T16:20:09.365246Z",
     "start_time": "2021-09-04T16:20:09.333179Z"
    }
   },
   "outputs": [],
   "source": [
    "# Read the dictionary as CSV\n",
    "\n",
    "with open('data.json', encoding='utf-8') as file:\n",
    "    df = pd.read_json(file, orient='index')\n",
    "    file.close()"
   ]
  },
  {
   "cell_type": "code",
   "execution_count": 5,
   "id": "828d5a0d",
   "metadata": {
    "ExecuteTime": {
     "end_time": "2021-09-04T16:20:10.299372Z",
     "start_time": "2021-09-04T16:20:10.286836Z"
    }
   },
   "outputs": [],
   "source": [
    "# Compile regular expression to filter for artile URLs\n",
    "article_url_regex = re.compile('.+\\d{8,}')\n",
    "\n",
    "# Filter DataFrame\n",
    "data = df[df.url.str.contains(article_url_regex)]"
   ]
  },
  {
   "cell_type": "code",
   "execution_count": 6,
   "id": "b61874ab",
   "metadata": {
    "ExecuteTime": {
     "end_time": "2021-09-04T16:20:10.788012Z",
     "start_time": "2021-09-04T16:20:10.778313Z"
    }
   },
   "outputs": [
    {
     "data": {
      "text/html": [
       "<div>\n",
       "<style scoped>\n",
       "    .dataframe tbody tr th:only-of-type {\n",
       "        vertical-align: middle;\n",
       "    }\n",
       "\n",
       "    .dataframe tbody tr th {\n",
       "        vertical-align: top;\n",
       "    }\n",
       "\n",
       "    .dataframe thead th {\n",
       "        text-align: right;\n",
       "    }\n",
       "</style>\n",
       "<table border=\"1\" class=\"dataframe\">\n",
       "  <thead>\n",
       "    <tr style=\"text-align: right;\">\n",
       "      <th></th>\n",
       "      <th>url</th>\n",
       "      <th>date</th>\n",
       "    </tr>\n",
       "  </thead>\n",
       "  <tbody>\n",
       "    <tr>\n",
       "      <th>6275</th>\n",
       "      <td>https://www.bbc.co.uk/news/uk-wales-57308495</td>\n",
       "      <td>2021-05-31 14:53:38+00:00</td>\n",
       "    </tr>\n",
       "    <tr>\n",
       "      <th>6276</th>\n",
       "      <td>https://www.bbc.co.uk/sport/olympics/57410179</td>\n",
       "      <td>2021-06-09 10:04:25+00:00</td>\n",
       "    </tr>\n",
       "    <tr>\n",
       "      <th>6277</th>\n",
       "      <td>https://www.bbc.co.uk/news/uk-england-bristol-...</td>\n",
       "      <td>2021-06-09 10:17:18+00:00</td>\n",
       "    </tr>\n",
       "    <tr>\n",
       "      <th>6278</th>\n",
       "      <td>https://www.bbc.co.uk/sport/av/football/57932118</td>\n",
       "      <td>2021-07-22 13:07:20+00:00</td>\n",
       "    </tr>\n",
       "    <tr>\n",
       "      <th>6279</th>\n",
       "      <td>https://www.bbc.co.uk/news/uk-england-derbyshi...</td>\n",
       "      <td>2021-06-17 16:22:49+00:00</td>\n",
       "    </tr>\n",
       "  </tbody>\n",
       "</table>\n",
       "</div>"
      ],
      "text/plain": [
       "                                                    url  \\\n",
       "6275       https://www.bbc.co.uk/news/uk-wales-57308495   \n",
       "6276      https://www.bbc.co.uk/sport/olympics/57410179   \n",
       "6277  https://www.bbc.co.uk/news/uk-england-bristol-...   \n",
       "6278   https://www.bbc.co.uk/sport/av/football/57932118   \n",
       "6279  https://www.bbc.co.uk/news/uk-england-derbyshi...   \n",
       "\n",
       "                          date  \n",
       "6275 2021-05-31 14:53:38+00:00  \n",
       "6276 2021-06-09 10:04:25+00:00  \n",
       "6277 2021-06-09 10:17:18+00:00  \n",
       "6278 2021-07-22 13:07:20+00:00  \n",
       "6279 2021-06-17 16:22:49+00:00  "
      ]
     },
     "execution_count": 6,
     "metadata": {},
     "output_type": "execute_result"
    }
   ],
   "source": [
    "data.tail()"
   ]
  },
  {
   "cell_type": "markdown",
   "id": "dc9b86ad",
   "metadata": {},
   "source": [
    "We create XPath expressions - based on observation - to extract the content and the title of the articles. We then declare a `process` function, to be applied in a `DataFrame`. It contains the logic of visiting a URL to retrieve the `root` of the `ElementTree` in the `get_document` function; and to extract, from the returned `root`, both the content and title in the `extract` function. The iteration over the URLs and saving the data to a new `DataFrame` is done internally to the `process` function. For every visited URL, after extracting article parts, we apply the `nlp` function from `SpaCy` on the content. This is an essential part of the process, as it gives us access to the polarity of the text."
   ]
  },
  {
   "cell_type": "code",
   "execution_count": 7,
   "id": "1b94ae65",
   "metadata": {
    "ExecuteTime": {
     "end_time": "2021-09-04T16:20:13.496192Z",
     "start_time": "2021-09-04T16:20:13.493650Z"
    }
   },
   "outputs": [],
   "source": [
    "content_xpath = '//article/div[@data-component=\"text-block\"]//*'\n",
    "title_xpath = '//h1'"
   ]
  },
  {
   "cell_type": "code",
   "execution_count": 8,
   "id": "daaee615",
   "metadata": {
    "ExecuteTime": {
     "end_time": "2021-09-04T16:20:13.964623Z",
     "start_time": "2021-09-04T16:20:13.956751Z"
    }
   },
   "outputs": [],
   "source": [
    "def process(df):\n",
    "    # create an empty DataFrame to store the retrieved and processed data\n",
    "    data = pd.DataFrame(columns=['url', 'date', 'title', 'content', 'polarity'])\n",
    "\n",
    "    def get_document(url):\n",
    "        \n",
    "        try:\n",
    "            # send a request to the URL\n",
    "            response = urlopen(url)\n",
    "            # create an HTML parser\n",
    "            htmlparser = etree.HTMLParser()\n",
    "            # parse the response as an ElementTree\n",
    "            tree = etree.parse(response, htmlparser)\n",
    "            # extract the root of the tree and return it\n",
    "            root = tree.getroot()\n",
    "            return root\n",
    "        \n",
    "        except urllib.error.HTTPError as e:\n",
    "            print(f'{e}\\n{url}\\n')\n",
    "            return \"\"\n",
    "\n",
    "    def extract(root, xpath_expression):\n",
    "        # extract the text from each tree element returned by the XPath expression (if the text is not empty)\n",
    "        content = [elem.text for elem in root.xpath(xpath_expression) if elem.text is not None]\n",
    "        # transform the result in a string and return it\n",
    "        text_string = ' '.join(content)\n",
    "        return text_string\n",
    "\n",
    "    # download and extract each article URL\n",
    "    \n",
    "    for i, row in enumerate(df.iterrows()):\n",
    "        article_url = row[1][0]\n",
    "        date = row[1][1]\n",
    "        # download the article contents\n",
    "        article = get_document(article_url)\n",
    "        # skip if the article is empty\n",
    "        if len(article) == 0:\n",
    "            continue\n",
    "        \n",
    "        # extract the article areas (content and title)\n",
    "        title = extract(article, title_xpath)\n",
    "        content = extract(article, content_xpath)\n",
    "        \n",
    "        # skip if the content is empty\n",
    "        if len(content) == 0:\n",
    "            continue\n",
    "\n",
    "        # apply NLP function\n",
    "        doc = nlp(content)\n",
    "        # extract polarity\n",
    "        polarity = doc._.polarity\n",
    "        # assemble row to add to the DataFrame\n",
    "        row = [article_url, date, title, content, polarity]\n",
    "        # add the row to the end of the DataFrame\n",
    "        data.loc[len(data)] = row\n",
    "\n",
    "    return data"
   ]
  },
  {
   "cell_type": "markdown",
   "id": "86fe549f",
   "metadata": {},
   "source": [
    "We run the `process` function, which prints out HTTP errors with the corresponding document URL in case of failure."
   ]
  },
  {
   "cell_type": "code",
   "execution_count": 9,
   "id": "270acb8d",
   "metadata": {
    "ExecuteTime": {
     "end_time": "2021-09-04T17:10:50.010289Z",
     "start_time": "2021-09-04T16:20:16.505134Z"
    }
   },
   "outputs": [
    {
     "name": "stdout",
     "output_type": "stream",
     "text": [
      "HTTP Error 404: Not Found\n",
      "https://www.bbc.co.uk/sport/football/12734066\n",
      "\n",
      "HTTP Error 404: Not Found\n",
      "https://www.bbc.co.uk/sport/football/12733939\n",
      "\n",
      "HTTP Error 404: Not Found\n",
      "https://www.bbc.co.uk/news/magazine-26980359\n",
      "\n"
     ]
    }
   ],
   "source": [
    "# This can be run on a sample of the data\n",
    "# processed_data = process(data.sample(100))\n",
    "\n",
    "processed_data = process(data)"
   ]
  },
  {
   "cell_type": "code",
   "execution_count": 11,
   "id": "d324b823",
   "metadata": {
    "ExecuteTime": {
     "end_time": "2021-09-04T17:12:41.080713Z",
     "start_time": "2021-09-04T17:12:41.070633Z"
    }
   },
   "outputs": [
    {
     "data": {
      "text/html": [
       "<div>\n",
       "<style scoped>\n",
       "    .dataframe tbody tr th:only-of-type {\n",
       "        vertical-align: middle;\n",
       "    }\n",
       "\n",
       "    .dataframe tbody tr th {\n",
       "        vertical-align: top;\n",
       "    }\n",
       "\n",
       "    .dataframe thead th {\n",
       "        text-align: right;\n",
       "    }\n",
       "</style>\n",
       "<table border=\"1\" class=\"dataframe\">\n",
       "  <thead>\n",
       "    <tr style=\"text-align: right;\">\n",
       "      <th></th>\n",
       "      <th>url</th>\n",
       "      <th>date</th>\n",
       "      <th>title</th>\n",
       "      <th>content</th>\n",
       "      <th>polarity</th>\n",
       "    </tr>\n",
       "  </thead>\n",
       "  <tbody>\n",
       "    <tr>\n",
       "      <th>0</th>\n",
       "      <td>https://www.bbc.co.uk/news/uk-england-manchest...</td>\n",
       "      <td>2010-09-22 17:35:34+00:00</td>\n",
       "      <td>Manchester soldier's last words become song</td>\n",
       "      <td>The final words written by a guardsman killed ...</td>\n",
       "      <td>0.127435</td>\n",
       "    </tr>\n",
       "    <tr>\n",
       "      <th>1</th>\n",
       "      <td>https://www.bbc.co.uk/news/world-asia-pacific-...</td>\n",
       "      <td>2010-10-12 08:54:42+00:00</td>\n",
       "      <td>North Korea leader's eldest son 'opposes dynasty'</td>\n",
       "      <td>The eldest son of North Korean leader Kim Jong...</td>\n",
       "      <td>0.013636</td>\n",
       "    </tr>\n",
       "    <tr>\n",
       "      <th>2</th>\n",
       "      <td>https://www.bbc.co.uk/news/health-10869329</td>\n",
       "      <td>2010-08-06 02:46:40+00:00</td>\n",
       "      <td>Why quitting heroin substitute methadone is 'v...</td>\n",
       "      <td>The heroin substitute methadone can be used as...</td>\n",
       "      <td>0.138417</td>\n",
       "    </tr>\n",
       "    <tr>\n",
       "      <th>3</th>\n",
       "      <td>https://www.bbc.co.uk/news/uk-england-lincolns...</td>\n",
       "      <td>2010-10-27 17:35:24+00:00</td>\n",
       "      <td>Paintings by gangster Reggie Kray go on sale i...</td>\n",
       "      <td>Seven oil paintings created by notorious gangs...</td>\n",
       "      <td>-0.006548</td>\n",
       "    </tr>\n",
       "    <tr>\n",
       "      <th>4</th>\n",
       "      <td>https://www.bbc.co.uk/news/uk-england-hereford...</td>\n",
       "      <td>2010-09-13 12:49:34+00:00</td>\n",
       "      <td>Teacher jailed for under-age sex in Worcesters...</td>\n",
       "      <td>A teacher has been jailed for four years after...</td>\n",
       "      <td>0.034028</td>\n",
       "    </tr>\n",
       "  </tbody>\n",
       "</table>\n",
       "</div>"
      ],
      "text/plain": [
       "                                                 url  \\\n",
       "0  https://www.bbc.co.uk/news/uk-england-manchest...   \n",
       "1  https://www.bbc.co.uk/news/world-asia-pacific-...   \n",
       "2         https://www.bbc.co.uk/news/health-10869329   \n",
       "3  https://www.bbc.co.uk/news/uk-england-lincolns...   \n",
       "4  https://www.bbc.co.uk/news/uk-england-hereford...   \n",
       "\n",
       "                        date  \\\n",
       "0  2010-09-22 17:35:34+00:00   \n",
       "1  2010-10-12 08:54:42+00:00   \n",
       "2  2010-08-06 02:46:40+00:00   \n",
       "3  2010-10-27 17:35:24+00:00   \n",
       "4  2010-09-13 12:49:34+00:00   \n",
       "\n",
       "                                               title  \\\n",
       "0        Manchester soldier's last words become song   \n",
       "1  North Korea leader's eldest son 'opposes dynasty'   \n",
       "2  Why quitting heroin substitute methadone is 'v...   \n",
       "3  Paintings by gangster Reggie Kray go on sale i...   \n",
       "4  Teacher jailed for under-age sex in Worcesters...   \n",
       "\n",
       "                                             content  polarity  \n",
       "0  The final words written by a guardsman killed ...  0.127435  \n",
       "1  The eldest son of North Korean leader Kim Jong...  0.013636  \n",
       "2  The heroin substitute methadone can be used as...  0.138417  \n",
       "3  Seven oil paintings created by notorious gangs... -0.006548  \n",
       "4  A teacher has been jailed for four years after...  0.034028  "
      ]
     },
     "execution_count": 11,
     "metadata": {},
     "output_type": "execute_result"
    }
   ],
   "source": [
    "processed_data.head()"
   ]
  },
  {
   "cell_type": "code",
   "execution_count": 14,
   "id": "c7795ee5",
   "metadata": {
    "ExecuteTime": {
     "end_time": "2021-09-04T15:52:11.358036Z",
     "start_time": "2021-09-04T15:52:11.351216Z"
    }
   },
   "outputs": [],
   "source": [
    "# Save the result as a CSV checkpoint\n",
    "# processed_data.to_csv('processed_data.csv')"
   ]
  },
  {
   "cell_type": "markdown",
   "id": "62934083",
   "metadata": {},
   "source": [
    "### Read in processed data"
   ]
  },
  {
   "cell_type": "code",
   "execution_count": 48,
   "id": "18b7c475",
   "metadata": {
    "ExecuteTime": {
     "end_time": "2021-09-04T17:14:23.783134Z",
     "start_time": "2021-09-04T17:14:23.692913Z"
    }
   },
   "outputs": [],
   "source": [
    "# Read in the result\n",
    "processed_data = pd.read_csv('processed_data.csv', index_col=None, \n",
    "                            usecols=['url', 'date', 'title', 'content', 'polarity'])\n",
    "# Make a copy of the data to work with\n",
    "df = processed_data.copy()\n",
    "\n",
    "# Transform the date column in a Datetime object, extract the date \n",
    "# only up to the day and overwrite the time information\n",
    "df['date'] = pd.to_datetime(df['date']).dt.date"
   ]
  },
  {
   "cell_type": "code",
   "execution_count": 49,
   "id": "4f6e5870",
   "metadata": {
    "ExecuteTime": {
     "end_time": "2021-09-04T17:14:24.115461Z",
     "start_time": "2021-09-04T17:14:24.106032Z"
    }
   },
   "outputs": [
    {
     "data": {
      "text/html": [
       "<div>\n",
       "<style scoped>\n",
       "    .dataframe tbody tr th:only-of-type {\n",
       "        vertical-align: middle;\n",
       "    }\n",
       "\n",
       "    .dataframe tbody tr th {\n",
       "        vertical-align: top;\n",
       "    }\n",
       "\n",
       "    .dataframe thead th {\n",
       "        text-align: right;\n",
       "    }\n",
       "</style>\n",
       "<table border=\"1\" class=\"dataframe\">\n",
       "  <thead>\n",
       "    <tr style=\"text-align: right;\">\n",
       "      <th></th>\n",
       "      <th>url</th>\n",
       "      <th>date</th>\n",
       "      <th>title</th>\n",
       "      <th>content</th>\n",
       "      <th>polarity</th>\n",
       "    </tr>\n",
       "  </thead>\n",
       "  <tbody>\n",
       "    <tr>\n",
       "      <th>0</th>\n",
       "      <td>https://www.bbc.co.uk/news/uk-england-manchest...</td>\n",
       "      <td>2010-09-22</td>\n",
       "      <td>Manchester soldier's last words become song</td>\n",
       "      <td>The final words written by a guardsman killed ...</td>\n",
       "      <td>0.127435</td>\n",
       "    </tr>\n",
       "    <tr>\n",
       "      <th>1</th>\n",
       "      <td>https://www.bbc.co.uk/news/world-asia-pacific-...</td>\n",
       "      <td>2010-10-12</td>\n",
       "      <td>North Korea leader's eldest son 'opposes dynasty'</td>\n",
       "      <td>The eldest son of North Korean leader Kim Jong...</td>\n",
       "      <td>0.013636</td>\n",
       "    </tr>\n",
       "    <tr>\n",
       "      <th>2</th>\n",
       "      <td>https://www.bbc.co.uk/news/health-10869329</td>\n",
       "      <td>2010-08-06</td>\n",
       "      <td>Why quitting heroin substitute methadone is 'v...</td>\n",
       "      <td>The heroin substitute methadone can be used as...</td>\n",
       "      <td>0.138417</td>\n",
       "    </tr>\n",
       "    <tr>\n",
       "      <th>3</th>\n",
       "      <td>https://www.bbc.co.uk/news/uk-england-lincolns...</td>\n",
       "      <td>2010-10-27</td>\n",
       "      <td>Paintings by gangster Reggie Kray go on sale i...</td>\n",
       "      <td>Seven oil paintings created by notorious gangs...</td>\n",
       "      <td>-0.006548</td>\n",
       "    </tr>\n",
       "    <tr>\n",
       "      <th>4</th>\n",
       "      <td>https://www.bbc.co.uk/news/uk-england-hereford...</td>\n",
       "      <td>2010-09-13</td>\n",
       "      <td>Teacher jailed for under-age sex in Worcesters...</td>\n",
       "      <td>A teacher has been jailed for four years after...</td>\n",
       "      <td>0.034028</td>\n",
       "    </tr>\n",
       "  </tbody>\n",
       "</table>\n",
       "</div>"
      ],
      "text/plain": [
       "                                                 url        date  \\\n",
       "0  https://www.bbc.co.uk/news/uk-england-manchest...  2010-09-22   \n",
       "1  https://www.bbc.co.uk/news/world-asia-pacific-...  2010-10-12   \n",
       "2         https://www.bbc.co.uk/news/health-10869329  2010-08-06   \n",
       "3  https://www.bbc.co.uk/news/uk-england-lincolns...  2010-10-27   \n",
       "4  https://www.bbc.co.uk/news/uk-england-hereford...  2010-09-13   \n",
       "\n",
       "                                               title  \\\n",
       "0        Manchester soldier's last words become song   \n",
       "1  North Korea leader's eldest son 'opposes dynasty'   \n",
       "2  Why quitting heroin substitute methadone is 'v...   \n",
       "3  Paintings by gangster Reggie Kray go on sale i...   \n",
       "4  Teacher jailed for under-age sex in Worcesters...   \n",
       "\n",
       "                                             content  polarity  \n",
       "0  The final words written by a guardsman killed ...  0.127435  \n",
       "1  The eldest son of North Korean leader Kim Jong...  0.013636  \n",
       "2  The heroin substitute methadone can be used as...  0.138417  \n",
       "3  Seven oil paintings created by notorious gangs... -0.006548  \n",
       "4  A teacher has been jailed for four years after...  0.034028  "
      ]
     },
     "execution_count": 49,
     "metadata": {},
     "output_type": "execute_result"
    }
   ],
   "source": [
    "df.head()"
   ]
  },
  {
   "cell_type": "markdown",
   "id": "4ff45515",
   "metadata": {},
   "source": [
    "Now we are ready to read-in the official Covid-19 data for the UK, available under https://coronavirus.data.gov.uk/details/download. The data set is included in the coursework submission, but it can also be downloaded under [this link](https://api.coronavirus.data.gov.uk/v2/data?areaType=overview&metric=hospitalCases&metric=newAdmissions&metric=newCasesBySpecimenDate&metric=newDailyNsoDeathsByDeathDate&metric=newPeopleVaccinatedCompleteByPublishDate&format=csv) - it should be named `covid.csv`. We will replace the `NaN` values with 0, which is present when there is no value collected; `NaN` here mostly means that the metric does not apply (e.g. there could not be any number of vaccinated people before the vaccines were deployed).\n",
    "\n",
    "The columns in the data are the following:\n",
    "- \"date\": the date to which the row refers;\n",
    "- \"hospitalCases\": the total number of patients in the hospital;\n",
    "- \"newAdmissions\": new daily admissions to the hospital;\n",
    "- \"newCasesBySpecimenDate\": new Covid-19 infections by specimen date;\n",
    "- \"newDailyNsoDeathsByDeathDate\": new daily deaths;\n",
    "- \"newPeopleVaccinatedCompleteByPublishDate\": new daily vaccinations."
   ]
  },
  {
   "cell_type": "code",
   "execution_count": 13,
   "id": "cacb6239",
   "metadata": {
    "ExecuteTime": {
     "end_time": "2021-09-04T17:12:54.387451Z",
     "start_time": "2021-09-04T17:12:54.374411Z"
    }
   },
   "outputs": [],
   "source": [
    "# Read in data downloaded from https://coronavirus.data.gov.uk/details/download\n",
    "covid_data = pd.read_csv('covid.csv', index_col=None).fillna(0).drop(columns=['areaCode', 'areaName', 'areaType'])\n",
    "\n",
    "# Convert numeric columns from float to int\n",
    "covid_data.iloc[:, 1:] = covid_data.iloc[:, 1:].astype(int)\n",
    "\n",
    "# Convert the `date` column into Datetime object\n",
    "covid_data['date'] = pd.to_datetime(covid_data['date']).dt.date"
   ]
  },
  {
   "cell_type": "code",
   "execution_count": 14,
   "id": "033c298a",
   "metadata": {
    "ExecuteTime": {
     "end_time": "2021-09-04T17:12:54.755301Z",
     "start_time": "2021-09-04T17:12:54.746123Z"
    }
   },
   "outputs": [
    {
     "data": {
      "text/html": [
       "<div>\n",
       "<style scoped>\n",
       "    .dataframe tbody tr th:only-of-type {\n",
       "        vertical-align: middle;\n",
       "    }\n",
       "\n",
       "    .dataframe tbody tr th {\n",
       "        vertical-align: top;\n",
       "    }\n",
       "\n",
       "    .dataframe thead th {\n",
       "        text-align: right;\n",
       "    }\n",
       "</style>\n",
       "<table border=\"1\" class=\"dataframe\">\n",
       "  <thead>\n",
       "    <tr style=\"text-align: right;\">\n",
       "      <th></th>\n",
       "      <th>date</th>\n",
       "      <th>hospitalCases</th>\n",
       "      <th>newAdmissions</th>\n",
       "      <th>newCasesBySpecimenDate</th>\n",
       "      <th>newDailyNsoDeathsByDeathDate</th>\n",
       "      <th>newPeopleVaccinatedCompleteByPublishDate</th>\n",
       "    </tr>\n",
       "  </thead>\n",
       "  <tbody>\n",
       "    <tr>\n",
       "      <th>66</th>\n",
       "      <td>2021-06-27</td>\n",
       "      <td>1602</td>\n",
       "      <td>265</td>\n",
       "      <td>18125</td>\n",
       "      <td>23</td>\n",
       "      <td>123555</td>\n",
       "    </tr>\n",
       "    <tr>\n",
       "      <th>262</th>\n",
       "      <td>2020-12-13</td>\n",
       "      <td>17538</td>\n",
       "      <td>1755</td>\n",
       "      <td>21983</td>\n",
       "      <td>480</td>\n",
       "      <td>0</td>\n",
       "    </tr>\n",
       "    <tr>\n",
       "      <th>103</th>\n",
       "      <td>2021-05-21</td>\n",
       "      <td>922</td>\n",
       "      <td>124</td>\n",
       "      <td>2293</td>\n",
       "      <td>18</td>\n",
       "      <td>426683</td>\n",
       "    </tr>\n",
       "  </tbody>\n",
       "</table>\n",
       "</div>"
      ],
      "text/plain": [
       "           date  hospitalCases  newAdmissions  newCasesBySpecimenDate  \\\n",
       "66   2021-06-27           1602            265                   18125   \n",
       "262  2020-12-13          17538           1755                   21983   \n",
       "103  2021-05-21            922            124                    2293   \n",
       "\n",
       "     newDailyNsoDeathsByDeathDate  newPeopleVaccinatedCompleteByPublishDate  \n",
       "66                             23                                    123555  \n",
       "262                           480                                         0  \n",
       "103                            18                                    426683  "
      ]
     },
     "execution_count": 14,
     "metadata": {},
     "output_type": "execute_result"
    }
   ],
   "source": [
    "covid_data.sample(3)"
   ]
  },
  {
   "cell_type": "markdown",
   "id": "cb2f978d",
   "metadata": {},
   "source": [
    "## Unit Testing"
   ]
  },
  {
   "cell_type": "markdown",
   "id": "5dc37bd0",
   "metadata": {},
   "source": [
    "In this part, we take the opportunity to run some unit tests. They have been put together in this section for ease of usage.\n",
    "\n",
    "We test whether the `SitemapWebCrawler` defined above returns empty in case the start URL does not exist. We also test the `process` function: whether 1) a broken URL and 2) a valid URL with no extracted content correctly return empty (and the resulting `DataFrame` has therefore length 0)."
   ]
  },
  {
   "cell_type": "code",
   "execution_count": 15,
   "id": "7051d06c",
   "metadata": {
    "ExecuteTime": {
     "end_time": "2021-09-04T17:12:55.688026Z",
     "start_time": "2021-09-04T17:12:55.684865Z"
    }
   },
   "outputs": [],
   "source": [
    "class TestSitemapWebCrawler(unittest.TestCase):\n",
    "    \n",
    "    def test_non_existing_url_returns_empty(self):\n",
    "        crawler = SitemapWebCrawler('https://www.bbc.co.uk/sitemaps/this-is-a-fake-url.xml', 1, 'test')\n",
    "        self.assertIsNone(crawler.start())"
   ]
  },
  {
   "cell_type": "code",
   "execution_count": 16,
   "id": "378fa4bb",
   "metadata": {
    "ExecuteTime": {
     "end_time": "2021-09-04T17:12:55.907574Z",
     "start_time": "2021-09-04T17:12:55.903351Z"
    }
   },
   "outputs": [],
   "source": [
    "class TestProcessing(unittest.TestCase):\n",
    "    \n",
    "    def setUp(self):\n",
    "        self.mock_df = pd.DataFrame({'url': ['https://www.bbc.co.uk/news/this-is-a-fake-url',\n",
    "                                    'https://www.bbc.com/news/av/world-south-asia-10805458'],\n",
    "                                    'date': ['2021-04-21 06:51:48+00:00', '2010-07-29 14:29:37+00:00']})\n",
    "    \n",
    "    def test_non_existing_url_returns_empty(self):\n",
    "        self.assertEqual(len(process(self.mock_df.iloc[[0]])), 0) # call the function only on the first row\n",
    "        \n",
    "    def test_document_with_no_content_extracted_returns_empty(self):\n",
    "        self.assertEqual(len(process(self.mock_df.iloc[[1]])), 0) # call the function only on the second row"
   ]
  },
  {
   "cell_type": "code",
   "execution_count": 17,
   "id": "81aeb027",
   "metadata": {
    "ExecuteTime": {
     "end_time": "2021-09-04T17:12:56.902406Z",
     "start_time": "2021-09-04T17:12:56.152849Z"
    }
   },
   "outputs": [
    {
     "name": "stderr",
     "output_type": "stream",
     "text": [
      "test_document_with_no_content_extracted_returns_empty (__main__.TestProcessing) ... /Users/felipemarineli/opt/anaconda3/envs/data_programming/lib/python3.8/site-packages/pandas/core/indexes/base.py:395: DeprecationWarning: `np.bool` is a deprecated alias for the builtin `bool`. To silence this warning, use `bool` by itself. Doing this will not modify any behavior and is safe. If you specifically wanted the numpy scalar type, use `np.bool_` here.\n",
      "Deprecated in NumPy 1.20; for more details and guidance: https://numpy.org/devdocs/release/1.20.0-notes.html#deprecations\n",
      "  elif issubclass(data.dtype.type, np.bool) or is_bool_dtype(data):\n",
      "ok\n",
      "test_non_existing_url_returns_empty (__main__.TestProcessing) ... ok\n",
      "test_non_existing_url_returns_empty (__main__.TestSitemapWebCrawler) ... "
     ]
    },
    {
     "name": "stdout",
     "output_type": "stream",
     "text": [
      "HTTP Error 404: Not Found\n",
      "https://www.bbc.co.uk/news/this-is-a-fake-url\n",
      "\n",
      "\n",
      "Crawling finished successfully!\n",
      "\n"
     ]
    },
    {
     "name": "stderr",
     "output_type": "stream",
     "text": [
      "ok\n",
      "\n",
      "----------------------------------------------------------------------\n",
      "Ran 3 tests in 0.743s\n",
      "\n",
      "OK\n"
     ]
    },
    {
     "data": {
      "text/plain": [
       "<unittest.main.TestProgram at 0x7fe9f0633040>"
      ]
     },
     "execution_count": 17,
     "metadata": {},
     "output_type": "execute_result"
    }
   ],
   "source": [
    "unittest.main(argv=['ignored', '-v'], exit=False)"
   ]
  },
  {
   "cell_type": "markdown",
   "id": "41b89875",
   "metadata": {},
   "source": [
    "Our tests run as expected, and we can confidently move on to the data analysis."
   ]
  },
  {
   "cell_type": "markdown",
   "id": "ee42ca6a",
   "metadata": {},
   "source": [
    "## Data Analysis"
   ]
  },
  {
   "cell_type": "markdown",
   "id": "bb53b54a",
   "metadata": {},
   "source": [
    "Now we are ready to visualize the data in order to get some insights about it. Rather than specific news articles, we are interested in the polarity grouped by date. This will give us a good measure for polarity variation over time. Below we extract the average polarity by day. We then remove outliers from the data - perhaps days in which there was only one article with extreme polarity in either direction; we keep the records that are within three standard deviations from the mean. Then we group the data by week in order to visualize it in a more intuitive way on the plots. "
   ]
  },
  {
   "cell_type": "code",
   "execution_count": 18,
   "id": "1f5083d0",
   "metadata": {
    "ExecuteTime": {
     "end_time": "2021-09-04T17:12:57.620952Z",
     "start_time": "2021-09-04T17:12:57.607759Z"
    }
   },
   "outputs": [
    {
     "name": "stdout",
     "output_type": "stream",
     "text": [
      "Data length before normalization: 1611\n",
      "Data length after normalization: 1594\n"
     ]
    }
   ],
   "source": [
    "# Store the mean polarity by day in order to plot the change over time\n",
    "daily_polarity = pd.DataFrame(df.groupby(df[\"date\"])[\"polarity\"].mean()).reset_index()\n",
    "print(f\"Data length before normalization: {len(daily_polarity)}\")\n",
    "\n",
    "# Keep only the days in which the polarity is within 3 standard deviations from the mean\n",
    "daily_polarity = daily_polarity[np.abs(daily_polarity[\"polarity\"] - daily_polarity[\"polarity\"].mean()) <= (3 * daily_polarity[\"polarity\"].std())]\n",
    "\n",
    "print(f\"Data length after normalization: {len(daily_polarity)}\")"
   ]
  },
  {
   "cell_type": "code",
   "execution_count": 19,
   "id": "7c027c57",
   "metadata": {
    "ExecuteTime": {
     "end_time": "2021-09-04T17:12:57.993854Z",
     "start_time": "2021-09-04T17:12:57.963153Z"
    }
   },
   "outputs": [
    {
     "data": {
      "text/html": [
       "<div>\n",
       "<style scoped>\n",
       "    .dataframe tbody tr th:only-of-type {\n",
       "        vertical-align: middle;\n",
       "    }\n",
       "\n",
       "    .dataframe tbody tr th {\n",
       "        vertical-align: top;\n",
       "    }\n",
       "\n",
       "    .dataframe thead th {\n",
       "        text-align: right;\n",
       "    }\n",
       "</style>\n",
       "<table border=\"1\" class=\"dataframe\">\n",
       "  <thead>\n",
       "    <tr style=\"text-align: right;\">\n",
       "      <th></th>\n",
       "      <th>date</th>\n",
       "      <th>polarity</th>\n",
       "    </tr>\n",
       "  </thead>\n",
       "  <tbody>\n",
       "    <tr>\n",
       "      <th>0</th>\n",
       "      <td>2010-05-02</td>\n",
       "      <td>0.155864</td>\n",
       "    </tr>\n",
       "    <tr>\n",
       "      <th>1</th>\n",
       "      <td>2010-05-09</td>\n",
       "      <td>0.064869</td>\n",
       "    </tr>\n",
       "    <tr>\n",
       "      <th>2</th>\n",
       "      <td>2010-05-16</td>\n",
       "      <td>0.048148</td>\n",
       "    </tr>\n",
       "    <tr>\n",
       "      <th>4</th>\n",
       "      <td>2010-05-30</td>\n",
       "      <td>0.085370</td>\n",
       "    </tr>\n",
       "    <tr>\n",
       "      <th>9</th>\n",
       "      <td>2010-07-04</td>\n",
       "      <td>-0.025000</td>\n",
       "    </tr>\n",
       "  </tbody>\n",
       "</table>\n",
       "</div>"
      ],
      "text/plain": [
       "        date  polarity\n",
       "0 2010-05-02  0.155864\n",
       "1 2010-05-09  0.064869\n",
       "2 2010-05-16  0.048148\n",
       "4 2010-05-30  0.085370\n",
       "9 2010-07-04 -0.025000"
      ]
     },
     "execution_count": 19,
     "metadata": {},
     "output_type": "execute_result"
    }
   ],
   "source": [
    "# Group the data by week, taking the mean polarity, in order to have a clearer grapth (less data points)\n",
    "weekly_polarity = daily_polarity.copy()\n",
    "weekly_polarity['date'] = pd.to_datetime(weekly_polarity['date']) - pd.to_timedelta(7, unit='d')\n",
    "weekly_polarity = pd.DataFrame(weekly_polarity.groupby([pd.Grouper(key='date', freq='W')])['polarity']\\\n",
    "                                            .mean().reset_index().sort_values('date').dropna(subset=['polarity']))\n",
    "weekly_polarity.head()"
   ]
  },
  {
   "cell_type": "markdown",
   "id": "42fbc04d",
   "metadata": {},
   "source": [
    "We first would like to see the evolution of document polarity over time. For this, we plot the week polarity in a time series."
   ]
  },
  {
   "cell_type": "code",
   "execution_count": 20,
   "id": "a82d820f",
   "metadata": {
    "ExecuteTime": {
     "end_time": "2021-09-04T17:12:58.823616Z",
     "start_time": "2021-09-04T17:12:58.656073Z"
    }
   },
   "outputs": [
    {
     "name": "stderr",
     "output_type": "stream",
     "text": [
      "/var/folders/pc/wdlmxwxj27d3wwj5bfsjlkbh0000gn/T/ipykernel_12159/3486047181.py:9: UserWarning: Matplotlib is currently using module://matplotlib_inline.backend_inline, which is a non-GUI backend, so cannot show the figure.\n",
      "  fig.show();\n"
     ]
    },
    {
     "data": {
      "image/png": "[encoded data removed]",
      "text/plain": [
       "<Figure size 1152x432 with 1 Axes>"
      ]
     },
     "metadata": {
      "needs_background": "light"
     },
     "output_type": "display_data"
    }
   ],
   "source": [
    "# TODO: draw graph properly\n",
    "\n",
    "fig, ax = plt.subplots(figsize=(16, 6))\n",
    "ax.scatter(weekly_polarity.date, weekly_polarity.polarity, marker='.')\n",
    "ax.set_title(f'Document polarity over time', fontweight='bold')\n",
    "ax.set_xlabel('Date')\n",
    "ax.set_ylabel('Average Weekly Polarity')\n",
    "ax.grid()\n",
    "fig.show();"
   ]
  },
  {
   "cell_type": "markdown",
   "id": "a60f692a",
   "metadata": {},
   "source": [
    "In a first glance, the graph does not seem to demonstrate a meaningful variation of polarity in the pandemic; if anything, the polarity seems to have gone up. We would like to investigate it further by looking at the polarity associated with Covid-19 metrics. "
   ]
  },
  {
   "cell_type": "code",
   "execution_count": 21,
   "id": "61aaa2df",
   "metadata": {
    "ExecuteTime": {
     "end_time": "2021-09-04T17:12:59.405517Z",
     "start_time": "2021-09-04T17:12:59.393790Z"
    }
   },
   "outputs": [],
   "source": [
    "final_df = daily_polarity.merge(covid_data, on='date', how='left').fillna(0)\n",
    "final_df.iloc[:, 2:] = final_df.iloc[:, 2:].astype(int)\n",
    "final_df = final_df.sort_values(by='date', ascending=False)"
   ]
  },
  {
   "cell_type": "code",
   "execution_count": 22,
   "id": "583e307e",
   "metadata": {
    "ExecuteTime": {
     "end_time": "2021-09-04T17:12:59.738141Z",
     "start_time": "2021-09-04T17:12:59.728732Z"
    }
   },
   "outputs": [
    {
     "data": {
      "text/html": [
       "<div>\n",
       "<style scoped>\n",
       "    .dataframe tbody tr th:only-of-type {\n",
       "        vertical-align: middle;\n",
       "    }\n",
       "\n",
       "    .dataframe tbody tr th {\n",
       "        vertical-align: top;\n",
       "    }\n",
       "\n",
       "    .dataframe thead th {\n",
       "        text-align: right;\n",
       "    }\n",
       "</style>\n",
       "<table border=\"1\" class=\"dataframe\">\n",
       "  <thead>\n",
       "    <tr style=\"text-align: right;\">\n",
       "      <th></th>\n",
       "      <th>date</th>\n",
       "      <th>polarity</th>\n",
       "      <th>hospitalCases</th>\n",
       "      <th>newAdmissions</th>\n",
       "      <th>newCasesBySpecimenDate</th>\n",
       "      <th>newDailyNsoDeathsByDeathDate</th>\n",
       "      <th>newPeopleVaccinatedCompleteByPublishDate</th>\n",
       "    </tr>\n",
       "  </thead>\n",
       "  <tbody>\n",
       "    <tr>\n",
       "      <th>1593</th>\n",
       "      <td>2021-08-26</td>\n",
       "      <td>-0.061972</td>\n",
       "      <td>6996</td>\n",
       "      <td>949</td>\n",
       "      <td>36911</td>\n",
       "      <td>0</td>\n",
       "      <td>144936</td>\n",
       "    </tr>\n",
       "    <tr>\n",
       "      <th>1592</th>\n",
       "      <td>2021-08-24</td>\n",
       "      <td>0.067673</td>\n",
       "      <td>6932</td>\n",
       "      <td>985</td>\n",
       "      <td>36942</td>\n",
       "      <td>0</td>\n",
       "      <td>130676</td>\n",
       "    </tr>\n",
       "    <tr>\n",
       "      <th>1591</th>\n",
       "      <td>2021-08-17</td>\n",
       "      <td>0.043062</td>\n",
       "      <td>6393</td>\n",
       "      <td>961</td>\n",
       "      <td>37077</td>\n",
       "      <td>78</td>\n",
       "      <td>145875</td>\n",
       "    </tr>\n",
       "    <tr>\n",
       "      <th>1590</th>\n",
       "      <td>2021-08-08</td>\n",
       "      <td>-0.040540</td>\n",
       "      <td>5845</td>\n",
       "      <td>741</td>\n",
       "      <td>22360</td>\n",
       "      <td>80</td>\n",
       "      <td>122070</td>\n",
       "    </tr>\n",
       "    <tr>\n",
       "      <th>1589</th>\n",
       "      <td>2021-08-05</td>\n",
       "      <td>0.127906</td>\n",
       "      <td>5745</td>\n",
       "      <td>805</td>\n",
       "      <td>31025</td>\n",
       "      <td>95</td>\n",
       "      <td>172692</td>\n",
       "    </tr>\n",
       "  </tbody>\n",
       "</table>\n",
       "</div>"
      ],
      "text/plain": [
       "            date  polarity  hospitalCases  newAdmissions  \\\n",
       "1593  2021-08-26 -0.061972           6996            949   \n",
       "1592  2021-08-24  0.067673           6932            985   \n",
       "1591  2021-08-17  0.043062           6393            961   \n",
       "1590  2021-08-08 -0.040540           5845            741   \n",
       "1589  2021-08-05  0.127906           5745            805   \n",
       "\n",
       "      newCasesBySpecimenDate  newDailyNsoDeathsByDeathDate  \\\n",
       "1593                   36911                             0   \n",
       "1592                   36942                             0   \n",
       "1591                   37077                            78   \n",
       "1590                   22360                            80   \n",
       "1589                   31025                            95   \n",
       "\n",
       "      newPeopleVaccinatedCompleteByPublishDate  \n",
       "1593                                    144936  \n",
       "1592                                    130676  \n",
       "1591                                    145875  \n",
       "1590                                    122070  \n",
       "1589                                    172692  "
      ]
     },
     "execution_count": 22,
     "metadata": {},
     "output_type": "execute_result"
    }
   ],
   "source": [
    "final_df.head()"
   ]
  },
  {
   "cell_type": "code",
   "execution_count": 23,
   "id": "3254fc7b",
   "metadata": {
    "ExecuteTime": {
     "end_time": "2021-09-04T17:13:00.069959Z",
     "start_time": "2021-09-04T17:13:00.045196Z"
    },
    "scrolled": true
   },
   "outputs": [
    {
     "data": {
      "text/html": [
       "<div>\n",
       "<style scoped>\n",
       "    .dataframe tbody tr th:only-of-type {\n",
       "        vertical-align: middle;\n",
       "    }\n",
       "\n",
       "    .dataframe tbody tr th {\n",
       "        vertical-align: top;\n",
       "    }\n",
       "\n",
       "    .dataframe thead th {\n",
       "        text-align: right;\n",
       "    }\n",
       "</style>\n",
       "<table border=\"1\" class=\"dataframe\">\n",
       "  <thead>\n",
       "    <tr style=\"text-align: right;\">\n",
       "      <th></th>\n",
       "      <th>polarity</th>\n",
       "      <th>hospitalCases</th>\n",
       "      <th>newAdmissions</th>\n",
       "      <th>newCasesBySpecimenDate</th>\n",
       "      <th>newDailyNsoDeathsByDeathDate</th>\n",
       "      <th>newPeopleVaccinatedCompleteByPublishDate</th>\n",
       "    </tr>\n",
       "  </thead>\n",
       "  <tbody>\n",
       "    <tr>\n",
       "      <th>count</th>\n",
       "      <td>1594.000000</td>\n",
       "      <td>1594.000000</td>\n",
       "      <td>1594.000000</td>\n",
       "      <td>1594.000000</td>\n",
       "      <td>1594.000000</td>\n",
       "      <td>1594.000000</td>\n",
       "    </tr>\n",
       "    <tr>\n",
       "      <th>mean</th>\n",
       "      <td>0.048672</td>\n",
       "      <td>519.459849</td>\n",
       "      <td>54.447930</td>\n",
       "      <td>796.072146</td>\n",
       "      <td>14.706399</td>\n",
       "      <td>5661.672522</td>\n",
       "    </tr>\n",
       "    <tr>\n",
       "      <th>std</th>\n",
       "      <td>0.067876</td>\n",
       "      <td>3330.509682</td>\n",
       "      <td>335.972113</td>\n",
       "      <td>4616.170516</td>\n",
       "      <td>104.076088</td>\n",
       "      <td>41773.662866</td>\n",
       "    </tr>\n",
       "    <tr>\n",
       "      <th>min</th>\n",
       "      <td>-0.166667</td>\n",
       "      <td>0.000000</td>\n",
       "      <td>0.000000</td>\n",
       "      <td>0.000000</td>\n",
       "      <td>0.000000</td>\n",
       "      <td>0.000000</td>\n",
       "    </tr>\n",
       "    <tr>\n",
       "      <th>25%</th>\n",
       "      <td>0.005980</td>\n",
       "      <td>0.000000</td>\n",
       "      <td>0.000000</td>\n",
       "      <td>0.000000</td>\n",
       "      <td>0.000000</td>\n",
       "      <td>0.000000</td>\n",
       "    </tr>\n",
       "    <tr>\n",
       "      <th>50%</th>\n",
       "      <td>0.051574</td>\n",
       "      <td>0.000000</td>\n",
       "      <td>0.000000</td>\n",
       "      <td>0.000000</td>\n",
       "      <td>0.000000</td>\n",
       "      <td>0.000000</td>\n",
       "    </tr>\n",
       "    <tr>\n",
       "      <th>75%</th>\n",
       "      <td>0.090859</td>\n",
       "      <td>0.000000</td>\n",
       "      <td>0.000000</td>\n",
       "      <td>0.000000</td>\n",
       "      <td>0.000000</td>\n",
       "      <td>0.000000</td>\n",
       "    </tr>\n",
       "    <tr>\n",
       "      <th>max</th>\n",
       "      <td>0.264049</td>\n",
       "      <td>38846.000000</td>\n",
       "      <td>4161.000000</td>\n",
       "      <td>46973.000000</td>\n",
       "      <td>1484.000000</td>\n",
       "      <td>556951.000000</td>\n",
       "    </tr>\n",
       "  </tbody>\n",
       "</table>\n",
       "</div>"
      ],
      "text/plain": [
       "          polarity  hospitalCases  newAdmissions  newCasesBySpecimenDate  \\\n",
       "count  1594.000000    1594.000000    1594.000000             1594.000000   \n",
       "mean      0.048672     519.459849      54.447930              796.072146   \n",
       "std       0.067876    3330.509682     335.972113             4616.170516   \n",
       "min      -0.166667       0.000000       0.000000                0.000000   \n",
       "25%       0.005980       0.000000       0.000000                0.000000   \n",
       "50%       0.051574       0.000000       0.000000                0.000000   \n",
       "75%       0.090859       0.000000       0.000000                0.000000   \n",
       "max       0.264049   38846.000000    4161.000000            46973.000000   \n",
       "\n",
       "       newDailyNsoDeathsByDeathDate  newPeopleVaccinatedCompleteByPublishDate  \n",
       "count                   1594.000000                               1594.000000  \n",
       "mean                      14.706399                               5661.672522  \n",
       "std                      104.076088                              41773.662866  \n",
       "min                        0.000000                                  0.000000  \n",
       "25%                        0.000000                                  0.000000  \n",
       "50%                        0.000000                                  0.000000  \n",
       "75%                        0.000000                                  0.000000  \n",
       "max                     1484.000000                             556951.000000  "
      ]
     },
     "execution_count": 23,
     "metadata": {},
     "output_type": "execute_result"
    }
   ],
   "source": [
    "final_df.describe()"
   ]
  },
  {
   "cell_type": "markdown",
   "id": "8787bd45",
   "metadata": {},
   "source": [
    "In order to plot the metrics on interest, we declare a function below named `plot_polarity` which was custom designed to our specific needs."
   ]
  },
  {
   "cell_type": "code",
   "execution_count": 24,
   "id": "b9ccc456",
   "metadata": {
    "ExecuteTime": {
     "end_time": "2021-09-04T17:13:00.820090Z",
     "start_time": "2021-09-04T17:13:00.813021Z"
    }
   },
   "outputs": [],
   "source": [
    "def plot_polarity(column_name, initial_date, label):\n",
    "    \n",
    "    # \"column_name\": the metric of interest from the 'covid_data' data set\n",
    "    # \"initial_date\": the initial date of the time series; it must be in 'YYYY-MM-DD' format\n",
    "    # \"label\": the label for the y-axis and for the title\n",
    "    \n",
    "    # Filter the data by initial_date\n",
    "    covid_df = final_df[final_df['date'].astype(str) > initial_date]\n",
    "    # Load in the polarity data already grouped by week\n",
    "    weekly_polarity_ = weekly_polarity[weekly_polarity['date'].astype(str) > initial_date]\n",
    "\n",
    "    fig, ax = plt.subplots(figsize=(16, 10))\n",
    "    axb = ax.twinx()\n",
    "\n",
    "    ax.set_xlabel('Date')\n",
    "    ax.set_xticklabels(ax.get_xticklabels(), rotation=45, ha='right')\n",
    "    ax.set_ylabel('Average Weekly Polarity')\n",
    "    ax.set_title(f'Polarity vs. {label}', fontweight='bold')\n",
    "    ax.grid(True, alpha=0.3)\n",
    "\n",
    "    # Plotting on the first y-axis\n",
    "    ax.bar(weekly_polarity_.date, weekly_polarity_.polarity, color='lightcoral', label='Polarity', width=3, alpha=0.7)\n",
    "    ax.legend(loc='upper left');\n",
    "\n",
    "    # Plotting on the second y-axis\n",
    "    axb.set_ylabel(label)\n",
    "    axb.plot(covid_df.date, covid_df[column_name], color='tab:blue', label=label, linewidth=3)\n",
    "    axb.set_ylim(bottom=0)\n",
    "\n",
    "    # Set the locator and formatter for the x-axis\n",
    "    ax.xaxis.set_major_locator(MonthLocator())\n",
    "    ax.xaxis.set_major_formatter(DateFormatter('%b %Y'))\n",
    "    \n",
    "    # Draw the labels\n",
    "    lines, labels = ax.get_legend_handles_labels()\n",
    "    lines2, labels2 = axb.get_legend_handles_labels()\n",
    "    axb.legend(lines + lines2, labels + labels2, loc='upper left');\n",
    "    \n",
    "    return"
   ]
  },
  {
   "cell_type": "markdown",
   "id": "dc7ab77f",
   "metadata": {},
   "source": [
    "Below we will plot all the variables of the `covid_data` DataFrame agains the evolution of polarity over time. The graph data about vaccination coverage has the initial date set to January 11, 2020, when the data set has the first record of vaccinations. The remaining metrics are plotted from January 30th, 2020, which is when the first Covid case was registered in the UK."
   ]
  },
  {
   "cell_type": "code",
   "execution_count": 25,
   "id": "649160a8",
   "metadata": {
    "ExecuteTime": {
     "end_time": "2021-09-04T17:13:01.886128Z",
     "start_time": "2021-09-04T17:13:01.536272Z"
    }
   },
   "outputs": [
    {
     "name": "stderr",
     "output_type": "stream",
     "text": [
      "/var/folders/pc/wdlmxwxj27d3wwj5bfsjlkbh0000gn/T/ipykernel_12159/3651017181.py:16: UserWarning: FixedFormatter should only be used together with FixedLocator\n",
      "  ax.set_xticklabels(ax.get_xticklabels(), rotation=45, ha='right')\n"
     ]
    },
    {
     "data": {
      "image/png": "[encoded data removed]",
      "text/plain": [
       "<Figure size 1152x720 with 2 Axes>"
      ]
     },
     "metadata": {
      "needs_background": "light"
     },
     "output_type": "display_data"
    }
   ],
   "source": [
    "plot_polarity(column_name=\"newCasesBySpecimenDate\", initial_date='2020-01-30', label=\"New cases\")"
   ]
  },
  {
   "cell_type": "code",
   "execution_count": 26,
   "id": "7d2f86b5",
   "metadata": {
    "ExecuteTime": {
     "end_time": "2021-09-04T17:13:02.308949Z",
     "start_time": "2021-09-04T17:13:01.937353Z"
    }
   },
   "outputs": [
    {
     "name": "stderr",
     "output_type": "stream",
     "text": [
      "/var/folders/pc/wdlmxwxj27d3wwj5bfsjlkbh0000gn/T/ipykernel_12159/3651017181.py:16: UserWarning: FixedFormatter should only be used together with FixedLocator\n",
      "  ax.set_xticklabels(ax.get_xticklabels(), rotation=45, ha='right')\n"
     ]
    },
    {
     "data": {
      "image/png": "[encoded data removed]",
      "text/plain": [
       "<Figure size 1152x720 with 2 Axes>"
      ]
     },
     "metadata": {
      "needs_background": "light"
     },
     "output_type": "display_data"
    }
   ],
   "source": [
    "plot_polarity(column_name=\"hospitalCases\", initial_date='2020-01-30', label=\"Patients in the hospital\")"
   ]
  },
  {
   "cell_type": "code",
   "execution_count": 27,
   "id": "86bc1751",
   "metadata": {
    "ExecuteTime": {
     "end_time": "2021-09-04T17:13:02.771142Z",
     "start_time": "2021-09-04T17:13:02.310713Z"
    }
   },
   "outputs": [
    {
     "name": "stderr",
     "output_type": "stream",
     "text": [
      "/var/folders/pc/wdlmxwxj27d3wwj5bfsjlkbh0000gn/T/ipykernel_12159/3651017181.py:16: UserWarning: FixedFormatter should only be used together with FixedLocator\n",
      "  ax.set_xticklabels(ax.get_xticklabels(), rotation=45, ha='right')\n"
     ]
    },
    {
     "data": {
      "image/png": "[encoded data removed]",
      "text/plain": [
       "<Figure size 1152x720 with 2 Axes>"
      ]
     },
     "metadata": {
      "needs_background": "light"
     },
     "output_type": "display_data"
    }
   ],
   "source": [
    "plot_polarity(column_name=\"newAdmissions\", initial_date='2020-01-30', label=\"New admissions to the hospital\")"
   ]
  },
  {
   "cell_type": "code",
   "execution_count": 53,
   "id": "a4a8404a",
   "metadata": {
    "ExecuteTime": {
     "end_time": "2021-09-04T17:31:12.890265Z",
     "start_time": "2021-09-04T17:31:12.524831Z"
    }
   },
   "outputs": [
    {
     "name": "stderr",
     "output_type": "stream",
     "text": [
      "/var/folders/pc/wdlmxwxj27d3wwj5bfsjlkbh0000gn/T/ipykernel_12159/3651017181.py:16: UserWarning: FixedFormatter should only be used together with FixedLocator\n",
      "  ax.set_xticklabels(ax.get_xticklabels(), rotation=45, ha='right')\n"
     ]
    },
    {
     "data": {
      "image/png": "[encoded data removed]",
      "text/plain": [
       "<Figure size 1152x720 with 2 Axes>"
      ]
     },
     "metadata": {
      "needs_background": "light"
     },
     "output_type": "display_data"
    }
   ],
   "source": [
    "plot_polarity(column_name=\"newDailyNsoDeathsByDeathDate\", initial_date='2020-01-30', label=\"Deaths\")"
   ]
  },
  {
   "cell_type": "code",
   "execution_count": 54,
   "id": "b7b761fb",
   "metadata": {
    "ExecuteTime": {
     "end_time": "2021-09-04T17:31:47.470306Z",
     "start_time": "2021-09-04T17:31:47.161415Z"
    }
   },
   "outputs": [
    {
     "name": "stderr",
     "output_type": "stream",
     "text": [
      "/var/folders/pc/wdlmxwxj27d3wwj5bfsjlkbh0000gn/T/ipykernel_12159/3651017181.py:16: UserWarning: FixedFormatter should only be used together with FixedLocator\n",
      "  ax.set_xticklabels(ax.get_xticklabels(), rotation=45, ha='right')\n"
     ]
    },
    {
     "data": {
      "image/png": "[encoded data removed]",
      "text/plain": [
       "<Figure size 1152x720 with 2 Axes>"
      ]
     },
     "metadata": {
      "needs_background": "light"
     },
     "output_type": "display_data"
    }
   ],
   "source": [
    "plot_polarity(column_name=\"newPeopleVaccinatedCompleteByPublishDate\", initial_date='2020-10-01', label=\"Newly vaccinated\")"
   ]
  },
  {
   "cell_type": "markdown",
   "id": "d730481c",
   "metadata": {},
   "source": [
    "There does not seem to exist any visible correlation between the Covid-19 metrics and the document polarity, but we can only test this via hypothesis testing."
   ]
  },
  {
   "cell_type": "markdown",
   "id": "38c9be89",
   "metadata": {},
   "source": [
    "## Hypothesis testing"
   ]
  },
  {
   "cell_type": "markdown",
   "id": "f9dd8277",
   "metadata": {},
   "source": [
    "We perform hypothesis testing using t-tests. We consider a result significant when it has a p-value smaller than or equal to 0.05. This will help us test our initial hypothesis that there is no significant change in the polarity of BBC articles since the pandemic started. \n",
    "\n",
    "We will also look into the influence of different pandemic metrics in the polarity, and whether there was significant change based on different arbitrary thresholds: for instance, if the daily deaths was higher than one thousand, does this affect polarity?\n",
    "\n",
    "The first and most important test is whether the pandemic as a whole affected polarity. Our null hypothesis states that it did not."
   ]
  },
  {
   "cell_type": "code",
   "execution_count": 30,
   "id": "103ae2ed",
   "metadata": {
    "ExecuteTime": {
     "end_time": "2021-09-04T17:13:05.219622Z",
     "start_time": "2021-09-04T17:13:05.215168Z"
    }
   },
   "outputs": [],
   "source": [
    "final_df = final_df.sort_values(by='date')"
   ]
  },
  {
   "cell_type": "code",
   "execution_count": 31,
   "id": "ad890e6d",
   "metadata": {
    "ExecuteTime": {
     "end_time": "2021-09-04T17:13:05.599995Z",
     "start_time": "2021-09-04T17:13:05.597139Z"
    }
   },
   "outputs": [],
   "source": [
    "# extract the mean polarity of the entire DataFrame for our t-tests below\n",
    "population_mean = final_df.polarity.mean()"
   ]
  },
  {
   "cell_type": "code",
   "execution_count": 32,
   "id": "f4ac160d",
   "metadata": {
    "ExecuteTime": {
     "end_time": "2021-09-04T17:13:05.994270Z",
     "start_time": "2021-09-04T17:13:05.986495Z"
    }
   },
   "outputs": [
    {
     "name": "stdout",
     "output_type": "stream",
     "text": [
      "t Statistic:  2.627836035653805\n",
      "p-value for single sided test: 0.00510\n"
     ]
    }
   ],
   "source": [
    "# First registered cases in the UK (by specimen date): January 30, 2020.\n",
    "\n",
    "initial_date = datetime.strptime('2020-01-30', '%Y-%m-%d').date()\n",
    "pandemic_polarity = final_df.query(\"date >= @initial_date\", engine='python').polarity\n",
    "tscore, pvalue = ttest_1samp(pandemic_polarity, popmean=population_mean)\n",
    "print(\"t Statistic: \", tscore)  \n",
    "print(f'p-value for single sided test: {pvalue / 2:.5f}')"
   ]
  },
  {
   "cell_type": "markdown",
   "id": "ee08efe0",
   "metadata": {},
   "source": [
    "As it turns out, the difference in polarity of articles in the pandemic is significant according to our test. The data compels us, therefore, to reject the null hypothesis. There was significant change, and it was positive, i.e. the articles published during the pandemic have a higher polarity than before the pandemic. We will problematize this result in the Conclusion.\n",
    "\n",
    "Below we will look into the different pandemic metrics, and check whether we can find any significant variation in polarity there."
   ]
  },
  {
   "cell_type": "code",
   "execution_count": 33,
   "id": "bf551f2b",
   "metadata": {
    "ExecuteTime": {
     "end_time": "2021-09-04T17:13:06.814958Z",
     "start_time": "2021-09-04T17:13:06.811592Z"
    }
   },
   "outputs": [],
   "source": [
    "# define a function for the t-test in order to avoid repeating the code\n",
    "\n",
    "def significance_test(df, query_string, label):\n",
    "    data = df.query(query_string).polarity\n",
    "    tscore, pvalue = ttest_1samp(data, popmean=population_mean)\n",
    "    print(f'// {label} //')\n",
    "    print(\"t Statistic: \", tscore)  \n",
    "    print(f'p-value for single sided test: {pvalue / 2:.5f}\\n')\n",
    "    return"
   ]
  },
  {
   "cell_type": "code",
   "execution_count": 34,
   "id": "ab5cb4a0",
   "metadata": {
    "ExecuteTime": {
     "end_time": "2021-09-04T17:13:07.045939Z",
     "start_time": "2021-09-04T17:13:07.037467Z"
    }
   },
   "outputs": [
    {
     "name": "stdout",
     "output_type": "stream",
     "text": [
      "// Days with more than 100 deaths in the UK //\n",
      "t Statistic:  1.6814986547937414\n",
      "p-value for single sided test: 0.05033\n",
      "\n",
      "// Days with more than 1000 deaths in the UK //\n",
      "t Statistic:  1.1609434762237179\n",
      "p-value for single sided test: 0.14488\n",
      "\n"
     ]
    }
   ],
   "source": [
    "# New deaths\n",
    "\n",
    "significance_test(final_df, \"newDailyNsoDeathsByDeathDate > 100\", \"Days with more than 100 deaths in the UK\")\n",
    "significance_test(final_df, \"newDailyNsoDeathsByDeathDate > 1000\", \"Days with more than 1000 deaths in the UK\")"
   ]
  },
  {
   "cell_type": "markdown",
   "id": "4152efc3",
   "metadata": {},
   "source": [
    "Both tests show a non-significant increase in polarity in the arbitrary threshold we established for daily deaths."
   ]
  },
  {
   "cell_type": "code",
   "execution_count": 35,
   "id": "19a0507c",
   "metadata": {
    "ExecuteTime": {
     "end_time": "2021-09-04T17:13:07.387118Z",
     "start_time": "2021-09-04T17:13:07.379189Z"
    }
   },
   "outputs": [
    {
     "name": "stdout",
     "output_type": "stream",
     "text": [
      "// Days in which more than 100,000 people were vaccinated in the UK //\n",
      "t Statistic:  1.9077300552782936\n",
      "p-value for single sided test: 0.03286\n",
      "\n",
      "// Days in which more than 400,000 people were vaccinated in the UK //\n",
      "t Statistic:  -1.0704996448983706\n",
      "p-value for single sided test: 0.15996\n",
      "\n"
     ]
    }
   ],
   "source": [
    "# Vaccination coverage\n",
    "\n",
    "significance_test(final_df, \"newPeopleVaccinatedCompleteByPublishDate > 100000\", \n",
    "                            \"Days in which more than 100,000 people were vaccinated in the UK\")\n",
    "\n",
    "significance_test(final_df, \"newPeopleVaccinatedCompleteByPublishDate > 400000\", \n",
    "                            \"Days in which more than 400,000 people were vaccinated in the UK\")"
   ]
  },
  {
   "cell_type": "markdown",
   "id": "41ce4af8",
   "metadata": {},
   "source": [
    "The test for people more than 100,000 newly vaccinated people was statistiscally significant, so we'd like to know the variation in the polarity means in this particular case. We see below it is 0.0208 (rounded to four decimal points). We will comment on the remaining significance tests at the end of the section."
   ]
  },
  {
   "cell_type": "code",
   "execution_count": 36,
   "id": "ea004584",
   "metadata": {
    "ExecuteTime": {
     "end_time": "2021-09-04T17:13:07.708134Z",
     "start_time": "2021-09-04T17:13:07.702416Z"
    }
   },
   "outputs": [
    {
     "name": "stdout",
     "output_type": "stream",
     "text": [
      "Polarity diff: 0.0208\n"
     ]
    }
   ],
   "source": [
    "print(\"Polarity diff:\", round(final_df.query(\"newPeopleVaccinatedCompleteByPublishDate > 100000\").polarity.mean() \\\n",
    "                                                              - final_df.polarity.mean(), 4))"
   ]
  },
  {
   "cell_type": "code",
   "execution_count": 37,
   "id": "284cc2cc",
   "metadata": {
    "ExecuteTime": {
     "end_time": "2021-09-04T17:13:07.862259Z",
     "start_time": "2021-09-04T17:13:07.853851Z"
    }
   },
   "outputs": [
    {
     "name": "stdout",
     "output_type": "stream",
     "text": [
      "// Total patients in hospitals more than 1000 in the UK //\n",
      "t Statistic:  3.0045296065548506\n",
      "p-value for single sided test: 0.00184\n",
      "\n",
      "// Total patients in hospitals more than 5000 in the UK //\n",
      "t Statistic:  1.8722453621768502\n",
      "p-value for single sided test: 0.03399\n",
      "\n"
     ]
    }
   ],
   "source": [
    "# Total patients in hospitals\n",
    "\n",
    "significance_test(final_df, \"hospitalCases > 1000\", \n",
    "                            \"Total patients in hospitals more than 1000 in the UK\")\n",
    "\n",
    "significance_test(final_df, \"hospitalCases > 5000\", \n",
    "                            \"Total patients in hospitals more than 5000 in the UK\")"
   ]
  },
  {
   "cell_type": "code",
   "execution_count": 38,
   "id": "d07698d3",
   "metadata": {
    "ExecuteTime": {
     "end_time": "2021-09-04T17:13:08.025353Z",
     "start_time": "2021-09-04T17:13:08.012375Z"
    }
   },
   "outputs": [
    {
     "name": "stdout",
     "output_type": "stream",
     "text": [
      "// Days in which less than 100 people were admitted to hospitals in the UK //\n",
      "t Statistic:  -0.42187410453072827\n",
      "p-value for single sided test: 0.33659\n",
      "\n",
      "// Days in which more than 100 people were admitted to hospitals in the UK //\n",
      "t Statistic:  2.2477073404813326\n",
      "p-value for single sided test: 0.01371\n",
      "\n",
      "// Days in which more than 500 people were admitted to hospitals in the UK //\n",
      "t Statistic:  1.0657681757313473\n",
      "p-value for single sided test: 0.14599\n",
      "\n",
      "// Days in which more than 1000 people were admitted to hospitals in the UK //\n",
      "t Statistic:  0.6410571197493471\n",
      "p-value for single sided test: 0.26318\n",
      "\n"
     ]
    }
   ],
   "source": [
    "# New hospital admissions\n",
    "\n",
    "significance_test(final_df, \"newAdmissions < 100\", \n",
    "                            \"Days in which less than 100 people were admitted to hospitals in the UK\")\n",
    "\n",
    "significance_test(final_df, \"newAdmissions > 100\", \n",
    "                            \"Days in which more than 100 people were admitted to hospitals in the UK\")\n",
    "\n",
    "significance_test(final_df, \"newAdmissions > 500\", \n",
    "                            \"Days in which more than 500 people were admitted to hospitals in the UK\")\n",
    "\n",
    "significance_test(final_df, \"newAdmissions > 1000\", \n",
    "                            \"Days in which more than 1000 people were admitted to hospitals in the UK\")"
   ]
  },
  {
   "cell_type": "code",
   "execution_count": 39,
   "id": "83e90d1b",
   "metadata": {
    "ExecuteTime": {
     "end_time": "2021-09-04T17:13:08.188313Z",
     "start_time": "2021-09-04T17:13:08.174359Z"
    }
   },
   "outputs": [
    {
     "name": "stdout",
     "output_type": "stream",
     "text": [
      "// Days with less than 1,000 new infections in the UK //\n",
      "t Statistic:  -0.43607375725570036\n",
      "p-value for single sided test: 0.33142\n",
      "\n",
      "// Days with more than 1,000 new infections in the UK //\n",
      "t Statistic:  2.378702888500885\n",
      "p-value for single sided test: 0.00988\n",
      "\n",
      "// Days with more than 1,000 new infections in the UK //\n",
      "t Statistic:  0.7910057331264464\n",
      "p-value for single sided test: 0.21680\n",
      "\n",
      "// Days with less than 100 new infections in the UK //\n",
      "t Statistic:  -0.4472156111928524\n",
      "p-value for single sided test: 0.32739\n",
      "\n"
     ]
    }
   ],
   "source": [
    "# New cases (by specimen date)\n",
    "\n",
    "significance_test(final_df, \"newCasesBySpecimenDate < 1000\", \n",
    "                            \"Days with less than 1,000 new infections in the UK\")\n",
    "\n",
    "significance_test(final_df, \"newCasesBySpecimenDate > 1000\", \n",
    "                            \"Days with more than 1,000 new infections in the UK\")\n",
    "\n",
    "significance_test(final_df, \"newCasesBySpecimenDate > 10000\", \n",
    "                            \"Days with more than 1,000 new infections in the UK\")\n",
    "\n",
    "significance_test(final_df, \"newCasesBySpecimenDate < 100\", \n",
    "                            \"Days with less than 100 new infections in the UK\")"
   ]
  },
  {
   "cell_type": "markdown",
   "id": "740b1cea",
   "metadata": {},
   "source": [
    "We have found that there is significance in the following metrics (higher document polarity):\n",
    "- Days with more than 100,000 people vaccinated;\n",
    "- Days with more than 1,000 and 5,000 people in the hospital due to Covid;\n",
    "- Days with more than 100 people admitted to the hospital;\n",
    "- Days with more than 1,000 new infections.\n",
    "\n",
    "This can be due to different reasons, but the results are somehow counter-intuitive. We will leave this aside and approach the pandemic numbers in a different manner. We will look at the variation instead of absolute numbers. Pandas has a very useful function to calculate percentage change from one value to the next (`pct_change`)."
   ]
  },
  {
   "cell_type": "code",
   "execution_count": 40,
   "id": "2ce643f4",
   "metadata": {
    "ExecuteTime": {
     "end_time": "2021-09-04T17:13:08.492758Z",
     "start_time": "2021-09-04T17:13:08.484807Z"
    }
   },
   "outputs": [],
   "source": [
    "# Pandas has a very useful function to calculate percentage change from one row to the next\n",
    "variation_df = final_df.iloc[:, 1:].pct_change().fillna(0)\n",
    "variation_df['date'] = final_df.iloc[:, 0]"
   ]
  },
  {
   "cell_type": "code",
   "execution_count": 41,
   "id": "126ae98a",
   "metadata": {
    "ExecuteTime": {
     "end_time": "2021-09-04T17:13:08.664440Z",
     "start_time": "2021-09-04T17:13:08.653106Z"
    }
   },
   "outputs": [
    {
     "data": {
      "text/html": [
       "<div>\n",
       "<style scoped>\n",
       "    .dataframe tbody tr th:only-of-type {\n",
       "        vertical-align: middle;\n",
       "    }\n",
       "\n",
       "    .dataframe tbody tr th {\n",
       "        vertical-align: top;\n",
       "    }\n",
       "\n",
       "    .dataframe thead th {\n",
       "        text-align: right;\n",
       "    }\n",
       "</style>\n",
       "<table border=\"1\" class=\"dataframe\">\n",
       "  <thead>\n",
       "    <tr style=\"text-align: right;\">\n",
       "      <th></th>\n",
       "      <th>polarity</th>\n",
       "      <th>hospitalCases</th>\n",
       "      <th>newAdmissions</th>\n",
       "      <th>newCasesBySpecimenDate</th>\n",
       "      <th>newDailyNsoDeathsByDeathDate</th>\n",
       "      <th>newPeopleVaccinatedCompleteByPublishDate</th>\n",
       "      <th>date</th>\n",
       "    </tr>\n",
       "  </thead>\n",
       "  <tbody>\n",
       "    <tr>\n",
       "      <th>1589</th>\n",
       "      <td>0.195112</td>\n",
       "      <td>-0.034129</td>\n",
       "      <td>0.194362</td>\n",
       "      <td>0.541079</td>\n",
       "      <td>0.104651</td>\n",
       "      <td>-0.185469</td>\n",
       "      <td>2021-08-05</td>\n",
       "    </tr>\n",
       "    <tr>\n",
       "      <th>1590</th>\n",
       "      <td>-1.316953</td>\n",
       "      <td>0.017406</td>\n",
       "      <td>-0.079503</td>\n",
       "      <td>-0.279291</td>\n",
       "      <td>-0.157895</td>\n",
       "      <td>-0.293135</td>\n",
       "      <td>2021-08-08</td>\n",
       "    </tr>\n",
       "    <tr>\n",
       "      <th>1591</th>\n",
       "      <td>-2.062214</td>\n",
       "      <td>0.093755</td>\n",
       "      <td>0.296896</td>\n",
       "      <td>0.658184</td>\n",
       "      <td>-0.025000</td>\n",
       "      <td>0.195011</td>\n",
       "      <td>2021-08-17</td>\n",
       "    </tr>\n",
       "    <tr>\n",
       "      <th>1592</th>\n",
       "      <td>0.571510</td>\n",
       "      <td>0.084311</td>\n",
       "      <td>0.024974</td>\n",
       "      <td>-0.003641</td>\n",
       "      <td>-1.000000</td>\n",
       "      <td>-0.104192</td>\n",
       "      <td>2021-08-24</td>\n",
       "    </tr>\n",
       "    <tr>\n",
       "      <th>1593</th>\n",
       "      <td>-1.915764</td>\n",
       "      <td>0.009233</td>\n",
       "      <td>-0.036548</td>\n",
       "      <td>-0.000839</td>\n",
       "      <td>0.000000</td>\n",
       "      <td>0.109125</td>\n",
       "      <td>2021-08-26</td>\n",
       "    </tr>\n",
       "  </tbody>\n",
       "</table>\n",
       "</div>"
      ],
      "text/plain": [
       "      polarity  hospitalCases  newAdmissions  newCasesBySpecimenDate  \\\n",
       "1589  0.195112      -0.034129       0.194362                0.541079   \n",
       "1590 -1.316953       0.017406      -0.079503               -0.279291   \n",
       "1591 -2.062214       0.093755       0.296896                0.658184   \n",
       "1592  0.571510       0.084311       0.024974               -0.003641   \n",
       "1593 -1.915764       0.009233      -0.036548               -0.000839   \n",
       "\n",
       "      newDailyNsoDeathsByDeathDate  newPeopleVaccinatedCompleteByPublishDate  \\\n",
       "1589                      0.104651                                 -0.185469   \n",
       "1590                     -0.157895                                 -0.293135   \n",
       "1591                     -0.025000                                  0.195011   \n",
       "1592                     -1.000000                                 -0.104192   \n",
       "1593                      0.000000                                  0.109125   \n",
       "\n",
       "            date  \n",
       "1589  2021-08-05  \n",
       "1590  2021-08-08  \n",
       "1591  2021-08-17  \n",
       "1592  2021-08-24  \n",
       "1593  2021-08-26  "
      ]
     },
     "execution_count": 41,
     "metadata": {},
     "output_type": "execute_result"
    }
   ],
   "source": [
    "variation_df.tail()"
   ]
  },
  {
   "cell_type": "code",
   "execution_count": 42,
   "id": "02baceb2",
   "metadata": {
    "ExecuteTime": {
     "end_time": "2021-09-04T17:13:08.815507Z",
     "start_time": "2021-09-04T17:13:08.804257Z"
    }
   },
   "outputs": [
    {
     "data": {
      "text/html": [
       "<div>\n",
       "<style scoped>\n",
       "    .dataframe tbody tr th:only-of-type {\n",
       "        vertical-align: middle;\n",
       "    }\n",
       "\n",
       "    .dataframe tbody tr th {\n",
       "        vertical-align: top;\n",
       "    }\n",
       "\n",
       "    .dataframe thead th {\n",
       "        text-align: right;\n",
       "    }\n",
       "</style>\n",
       "<table border=\"1\" class=\"dataframe\">\n",
       "  <thead>\n",
       "    <tr style=\"text-align: right;\">\n",
       "      <th></th>\n",
       "      <th>polarity</th>\n",
       "      <th>hospitalCases</th>\n",
       "      <th>newAdmissions</th>\n",
       "      <th>newCasesBySpecimenDate</th>\n",
       "      <th>newDailyNsoDeathsByDeathDate</th>\n",
       "      <th>newPeopleVaccinatedCompleteByPublishDate</th>\n",
       "    </tr>\n",
       "  </thead>\n",
       "  <tbody>\n",
       "    <tr>\n",
       "      <th>polarity</th>\n",
       "      <td>1.000000</td>\n",
       "      <td>-0.000777</td>\n",
       "      <td>-0.000824</td>\n",
       "      <td>-0.000768</td>\n",
       "      <td>-0.000913</td>\n",
       "      <td>-0.001245</td>\n",
       "    </tr>\n",
       "    <tr>\n",
       "      <th>hospitalCases</th>\n",
       "      <td>-0.000777</td>\n",
       "      <td>1.000000</td>\n",
       "      <td>0.757812</td>\n",
       "      <td>0.001195</td>\n",
       "      <td>0.525123</td>\n",
       "      <td>-0.178321</td>\n",
       "    </tr>\n",
       "    <tr>\n",
       "      <th>newAdmissions</th>\n",
       "      <td>-0.000824</td>\n",
       "      <td>0.757812</td>\n",
       "      <td>1.000000</td>\n",
       "      <td>0.002930</td>\n",
       "      <td>0.494144</td>\n",
       "      <td>-0.162885</td>\n",
       "    </tr>\n",
       "    <tr>\n",
       "      <th>newCasesBySpecimenDate</th>\n",
       "      <td>-0.000768</td>\n",
       "      <td>0.001195</td>\n",
       "      <td>0.002930</td>\n",
       "      <td>1.000000</td>\n",
       "      <td>0.399600</td>\n",
       "      <td>-0.000885</td>\n",
       "    </tr>\n",
       "    <tr>\n",
       "      <th>newDailyNsoDeathsByDeathDate</th>\n",
       "      <td>-0.000913</td>\n",
       "      <td>0.525123</td>\n",
       "      <td>0.494144</td>\n",
       "      <td>0.399600</td>\n",
       "      <td>1.000000</td>\n",
       "      <td>-0.116887</td>\n",
       "    </tr>\n",
       "    <tr>\n",
       "      <th>newPeopleVaccinatedCompleteByPublishDate</th>\n",
       "      <td>-0.001245</td>\n",
       "      <td>-0.178321</td>\n",
       "      <td>-0.162885</td>\n",
       "      <td>-0.000885</td>\n",
       "      <td>-0.116887</td>\n",
       "      <td>1.000000</td>\n",
       "    </tr>\n",
       "  </tbody>\n",
       "</table>\n",
       "</div>"
      ],
      "text/plain": [
       "                                          polarity  hospitalCases  \\\n",
       "polarity                                  1.000000      -0.000777   \n",
       "hospitalCases                            -0.000777       1.000000   \n",
       "newAdmissions                            -0.000824       0.757812   \n",
       "newCasesBySpecimenDate                   -0.000768       0.001195   \n",
       "newDailyNsoDeathsByDeathDate             -0.000913       0.525123   \n",
       "newPeopleVaccinatedCompleteByPublishDate -0.001245      -0.178321   \n",
       "\n",
       "                                          newAdmissions  \\\n",
       "polarity                                      -0.000824   \n",
       "hospitalCases                                  0.757812   \n",
       "newAdmissions                                  1.000000   \n",
       "newCasesBySpecimenDate                         0.002930   \n",
       "newDailyNsoDeathsByDeathDate                   0.494144   \n",
       "newPeopleVaccinatedCompleteByPublishDate      -0.162885   \n",
       "\n",
       "                                          newCasesBySpecimenDate  \\\n",
       "polarity                                               -0.000768   \n",
       "hospitalCases                                           0.001195   \n",
       "newAdmissions                                           0.002930   \n",
       "newCasesBySpecimenDate                                  1.000000   \n",
       "newDailyNsoDeathsByDeathDate                            0.399600   \n",
       "newPeopleVaccinatedCompleteByPublishDate               -0.000885   \n",
       "\n",
       "                                          newDailyNsoDeathsByDeathDate  \\\n",
       "polarity                                                     -0.000913   \n",
       "hospitalCases                                                 0.525123   \n",
       "newAdmissions                                                 0.494144   \n",
       "newCasesBySpecimenDate                                        0.399600   \n",
       "newDailyNsoDeathsByDeathDate                                  1.000000   \n",
       "newPeopleVaccinatedCompleteByPublishDate                     -0.116887   \n",
       "\n",
       "                                          newPeopleVaccinatedCompleteByPublishDate  \n",
       "polarity                                                                 -0.001245  \n",
       "hospitalCases                                                            -0.178321  \n",
       "newAdmissions                                                            -0.162885  \n",
       "newCasesBySpecimenDate                                                   -0.000885  \n",
       "newDailyNsoDeathsByDeathDate                                             -0.116887  \n",
       "newPeopleVaccinatedCompleteByPublishDate                                  1.000000  "
      ]
     },
     "execution_count": 42,
     "metadata": {},
     "output_type": "execute_result"
    }
   ],
   "source": [
    "variation_df.corr()"
   ]
  },
  {
   "cell_type": "code",
   "execution_count": 43,
   "id": "83bb027f",
   "metadata": {
    "ExecuteTime": {
     "end_time": "2021-09-04T17:13:08.979597Z",
     "start_time": "2021-09-04T17:13:08.964045Z"
    }
   },
   "outputs": [
    {
     "name": "stdout",
     "output_type": "stream",
     "text": [
      "// Days with less deaths than the previous time period //\n",
      "t Statistic:  -1.3161834904855854\n",
      "p-value for single sided test: 0.09771\n",
      "\n",
      "// Days with more deaths than the previous time period //\n",
      "t Statistic:  -0.9920235226099539\n",
      "p-value for single sided test: 0.16357\n",
      "\n",
      "// Days with more than 20% increase in deaths in relation to previous time period //\n",
      "t Statistic:  -0.9953281504539755\n",
      "p-value for single sided test: 0.16497\n",
      "\n",
      "// Days with more than 50% increase in deaths in relation to previous time period //\n",
      "t Statistic:  -1.001992515070765\n",
      "p-value for single sided test: 0.17126\n",
      "\n",
      "// Days with more than 100% increase in deaths in relation to previous time period //\n",
      "t Statistic:  -0.5557180812726384\n",
      "p-value for single sided test: 0.31714\n",
      "\n"
     ]
    }
   ],
   "source": [
    "# New deaths\n",
    "\n",
    "significance_test(variation_df, \"newDailyNsoDeathsByDeathDate < 0\", \n",
    "                            \"Days with less deaths than the previous time period\")\n",
    "\n",
    "significance_test(variation_df, \"newDailyNsoDeathsByDeathDate > 0\", \n",
    "                            \"Days with more deaths than the previous time period\")\n",
    "\n",
    "significance_test(variation_df, \"newDailyNsoDeathsByDeathDate > 0.2\", \n",
    "                            \"Days with more than 20% increase in deaths in relation to previous time period\")\n",
    "\n",
    "significance_test(variation_df, \"newDailyNsoDeathsByDeathDate > 0.5\", \n",
    "                            \"Days with more than 50% increase in deaths in relation to previous time period\")\n",
    "\n",
    "significance_test(variation_df, \"newDailyNsoDeathsByDeathDate > 1\", \n",
    "                            \"Days with more than 100% increase in deaths in relation to previous time period\")"
   ]
  },
  {
   "cell_type": "code",
   "execution_count": 44,
   "id": "1b969736",
   "metadata": {
    "ExecuteTime": {
     "end_time": "2021-09-04T17:13:09.130212Z",
     "start_time": "2021-09-04T17:13:09.119958Z"
    }
   },
   "outputs": [
    {
     "name": "stdout",
     "output_type": "stream",
     "text": [
      "// Days with more people vaccinated than the previous time period //\n",
      "t Statistic:  -1.4169120550477878\n",
      "p-value for single sided test: 0.08468\n",
      "\n",
      "// Days with more than 20% increase in vaccinations in relation to previous time period //\n",
      "t Statistic:  -1.42214904903236\n",
      "p-value for single sided test: 0.08844\n",
      "\n",
      "// Days with more than 50% increase in vaccinations in relation to previous time period //\n",
      "t Statistic:  -0.9587566934999242\n",
      "p-value for single sided test: 0.18288\n",
      "\n"
     ]
    }
   ],
   "source": [
    "# Vaccination coverage\n",
    "\n",
    "significance_test(variation_df, \"newPeopleVaccinatedCompleteByPublishDate > 0\", \n",
    "                            \"Days with more people vaccinated than the previous time period\")\n",
    "\n",
    "significance_test(variation_df, \"newPeopleVaccinatedCompleteByPublishDate > 0.2\", \n",
    "                            \"Days with more than 20% increase in vaccinations in relation to previous time period\")\n",
    "\n",
    "significance_test(variation_df, \"newPeopleVaccinatedCompleteByPublishDate > 0.5\", \n",
    "                            \"Days with more than 50% increase in vaccinations in relation to previous time period\")"
   ]
  },
  {
   "cell_type": "code",
   "execution_count": 45,
   "id": "04d06592",
   "metadata": {
    "ExecuteTime": {
     "end_time": "2021-09-04T17:13:09.276559Z",
     "start_time": "2021-09-04T17:13:09.264489Z"
    }
   },
   "outputs": [
    {
     "name": "stdout",
     "output_type": "stream",
     "text": [
      "// Days with less patients in hospitals than the previous time period //\n",
      "t Statistic:  -1.253096844208626\n",
      "p-value for single sided test: 0.10882\n",
      "\n",
      "// Days with more patients in hospitals than the previous time period //\n",
      "t Statistic:  -0.9939901247048145\n",
      "p-value for single sided test: 0.16326\n",
      "\n",
      "// Days with more than 20% increase in patients in hospitals in relation to previous time period //\n",
      "t Statistic:  0.6021975618211443\n",
      "p-value for single sided test: 0.27913\n",
      "\n",
      "// Days with more than 50% increase in patients in hospitals in relation to previous time period //\n",
      "t Statistic:  -0.35567480856753986\n",
      "p-value for single sided test: 0.37805\n",
      "\n"
     ]
    }
   ],
   "source": [
    "# Total patients in hospitals\n",
    "\n",
    "significance_test(variation_df, \"hospitalCases < 0\", \n",
    "                            \"Days with less patients in hospitals than the previous time period\")\n",
    "\n",
    "significance_test(variation_df, \"hospitalCases > 0\", \n",
    "                            \"Days with more patients in hospitals than the previous time period\")\n",
    "\n",
    "significance_test(variation_df, \"hospitalCases > 0.2\", \n",
    "                            \"Days with more than 20% increase in patients in hospitals in relation to previous time period\")\n",
    "\n",
    "significance_test(variation_df, \"hospitalCases > 0.5\", \n",
    "                            \"Days with more than 50% increase in patients in hospitals in relation to previous time period\")"
   ]
  },
  {
   "cell_type": "code",
   "execution_count": 46,
   "id": "1faa98b3",
   "metadata": {
    "ExecuteTime": {
     "end_time": "2021-09-04T17:13:09.424237Z",
     "start_time": "2021-09-04T17:13:09.411669Z"
    }
   },
   "outputs": [
    {
     "name": "stdout",
     "output_type": "stream",
     "text": [
      "// Days in which less people were admitted to hospitals in relation to previous time period //\n",
      "t Statistic:  -0.5704351263413614\n",
      "p-value for single sided test: 0.28571\n",
      "\n",
      "// Days in which more people were admitted to hospitals in relation to previous time period //\n",
      "t Statistic:  -0.9999827028300661\n",
      "p-value for single sided test: 0.16191\n",
      "\n",
      "// Days with more than 20% increase in hospital admissions in relation to previous time period //\n",
      "t Statistic:  -2.4542926608162685\n",
      "p-value for single sided test: 0.01170\n",
      "\n",
      "// Days with more than 50% increase in hospital admissions in relation to previous time period //\n",
      "t Statistic:  -1.8630386943466657\n",
      "p-value for single sided test: 0.06796\n",
      "\n"
     ]
    }
   ],
   "source": [
    "# New hospital admissions\n",
    "\n",
    "significance_test(variation_df, \"newAdmissions < 0\", \n",
    "                        \"Days in which less people were admitted to hospitals in relation to previous time period\")\n",
    "\n",
    "significance_test(variation_df, \"newAdmissions > 0\", \n",
    "                        \"Days in which more people were admitted to hospitals in relation to previous time period\")\n",
    "\n",
    "significance_test(variation_df, \"newAdmissions > 0.2\", \n",
    "                        \"Days with more than 20% increase in hospital admissions in relation to previous time period\")\n",
    "\n",
    "significance_test(variation_df, \"newAdmissions > 0.5\", \n",
    "                        \"Days with more than 50% increase in hospital admissions in relation to previous time period\")"
   ]
  },
  {
   "cell_type": "code",
   "execution_count": 47,
   "id": "9484f7a2",
   "metadata": {
    "ExecuteTime": {
     "end_time": "2021-09-04T17:13:09.576607Z",
     "start_time": "2021-09-04T17:13:09.564785Z"
    }
   },
   "outputs": [
    {
     "name": "stdout",
     "output_type": "stream",
     "text": [
      "// Days with less new infections than the previous time period //\n",
      "t Statistic:  -0.187392562066247\n",
      "p-value for single sided test: 0.42615\n",
      "\n",
      "// Days with more new infections than the previous time period //\n",
      "t Statistic:  -1.0057668945475042\n",
      "p-value for single sided test: 0.16008\n",
      "\n",
      "// Days with more than 20% increase in new infections in relation to previous time period //\n",
      "t Statistic:  -1.0101712247919852\n",
      "p-value for single sided test: 0.16146\n",
      "\n",
      "// Days with more than 50% increase in new infections in relation to previous time period //\n",
      "t Statistic:  -1.0475221859743808\n",
      "p-value for single sided test: 0.15775\n",
      "\n"
     ]
    }
   ],
   "source": [
    "# New cases\n",
    "\n",
    "significance_test(variation_df, \"newCasesBySpecimenDate < 0\", \n",
    "                            \"Days with less new infections than the previous time period\")\n",
    "\n",
    "significance_test(variation_df, \"newCasesBySpecimenDate > 0\", \n",
    "                            \"Days with more new infections than the previous time period\")\n",
    "\n",
    "significance_test(variation_df, \"newCasesBySpecimenDate > 0.2\", \n",
    "                            \"Days with more than 20% increase in new infections in relation to previous time period\")\n",
    "\n",
    "significance_test(variation_df, \"newCasesBySpecimenDate > 0.5\", \n",
    "                            \"Days with more than 50% increase in new infections in relation to previous time period\")"
   ]
  },
  {
   "cell_type": "markdown",
   "id": "2c928438",
   "metadata": {},
   "source": [
    "We consider the approach of looking at the variation more reliable than looking at absolute numbers, and it also makes the process somehow less arbitrary (the variation is a normalized value). Only one test is significant: the polarity is lower in days in which there is at least 20% increase in hospital admissions in relation to the previous period."
   ]
  },
  {
   "cell_type": "markdown",
   "id": "a5b08c3b",
   "metadata": {},
   "source": [
    "## Conclusion"
   ]
  },
  {
   "cell_type": "markdown",
   "id": "a8324912",
   "metadata": {},
   "source": [
    "As demonstrated above, we rejected our null hypothesis. According to our data, the pandemic seems to have significantly increased the polarity in content published by BBC. This does not seem to have a clear explanation. On the other hand, when comparing the polarity with metrics from the pandemic, we have found that the polarity decreased in days in which the hospital admissions due to Covid increased by more than 20%.\n",
    "\n",
    "Our results could be due to a few possible reasons. The first possiblity is that we did not have a big enough data set, and our data does not represent the population. This seems to be likely; it is difficult to stablish here how big is big enough for the sample to be safely regarded as representative of the population. Perhaps a better approach would be improving the `SitemapWebCrawler` class in order for it to crawl \"random\" URLs in each page (still constrained by the upper URL limite). An alternative could be running the Web Crawler from a cloud service, set a sleep time after a crawling some pages (for instance, waiting 1s after three requests), and get all the content. \n",
    "\n",
    "There is, of course, also the possibility that the pandemic does not generally reflect in the polarity of editorial news. We cannot ignore the fact that the BBC staff is comprised of professional writers, and therefore one might expect to find a smaller polarity variation than, e.g., in social media. An interesting alternative for looking at fluctuations in editorial news would be to collect data from a social network - preferably a more fast-paced one, such as Twitter or Reddit - in order to have a more granular time series that should have properties more relatable to real events than editorial news."
   ]
  }
 ],
 "metadata": {
  "kernelspec": {
   "display_name": "Anaconda Python 3.11 (py311)",
   "language": "python",
   "name": "py311"
  },
  "language_info": {
   "codemirror_mode": {
    "name": "ipython",
    "version": 3
   },
   "file_extension": ".py",
   "mimetype": "text/x-python",
   "name": "python",
   "nbconvert_exporter": "python",
   "pygments_lexer": "ipython3",
   "version": "3.11.5"
  }
 },
 "nbformat": 4,
 "nbformat_minor": 5
}
